{
 "cells": [
  {
   "cell_type": "markdown",
   "id": "1d6242c4",
   "metadata": {},
   "source": [
    "# Шаг 1: Загрузка APK с Fossdroid (LVDAndro)"
   ]
  },
  {
   "cell_type": "markdown",
   "id": "508849f3",
   "metadata": {},
   "source": [
    "Реализация взята из скриптов датасета LVDAndro: https://github.com/softwaresec-labs/LVDAndro"
   ]
  },
  {
   "cell_type": "code",
   "execution_count": 1,
   "id": "edf46cf2",
   "metadata": {},
   "outputs": [],
   "source": [
    "import requests\n",
    "from bs4 import BeautifulSoup\n",
    "import subprocess\n",
    "import os\n",
    "import shutil"
   ]
  },
  {
   "cell_type": "code",
   "execution_count": 2,
   "id": "8f7377b5",
   "metadata": {},
   "outputs": [],
   "source": [
    "DOWNLOAD_BASE_PATH = \"D:/ETU/apk_all\""
   ]
  },
  {
   "cell_type": "code",
   "execution_count": 3,
   "id": "4be9e24b",
   "metadata": {},
   "outputs": [],
   "source": [
    "def get_menu_links():\n",
    "    url_to_call = \"https://fossdroid.com/\"\n",
    "\n",
    "    response = requests.get(url_to_call, headers={'User-Agent': 'Mozilla/5.0'})\n",
    "    response_code = response.status_code\n",
    "\n",
    "    if response_code != 200:\n",
    "        print(\"Some Error\")\n",
    "        return\n",
    "\n",
    "    html_content = response.content\n",
    "    dom = BeautifulSoup(html_content, 'html.parser')\n",
    "    all_menu_content = dom.select(\"a.mdl-navigation__link\")\n",
    "\n",
    "    menu_links = []\n",
    "\n",
    "    for each_menu_content in all_menu_content:\n",
    "        href_link = each_menu_content.attrs[\"href\"]\n",
    "\n",
    "        next_link = url_to_call+href_link[1:]+\"whats_new.html\"\n",
    "\n",
    "        menu_links.append(next_link)\n",
    "\n",
    "    return menu_links"
   ]
  },
  {
   "cell_type": "code",
   "execution_count": 4,
   "id": "08c26e56",
   "metadata": {},
   "outputs": [],
   "source": [
    "def get_view_app_links(all_menu_links):\n",
    "    page_links = []\n",
    "    for each_menu_link in all_menu_links:\n",
    "        response = requests.get(each_menu_link, headers={'User-Agent': 'Mozilla/5.0'})\n",
    "        response_code = response.status_code\n",
    "\n",
    "        if response_code != 200:\n",
    "            print(\"Some Error\")\n",
    "            return\n",
    "\n",
    "        html_content = response.content\n",
    "        dom = BeautifulSoup(html_content, 'html.parser')\n",
    "        all_view_app_content = dom.select(\"div.mdl-card__title h5\")\n",
    "\n",
    "        for each_view_app_content in all_view_app_content:\n",
    "\n",
    "            href_link = each_view_app_content.a.attrs[\"href\"]\n",
    "            page_link = \"https://fossdroid.com\" + href_link\n",
    "\n",
    "            page_links.append(page_link)\n",
    "\n",
    "    return page_links"
   ]
  },
  {
   "cell_type": "code",
   "execution_count": 5,
   "id": "871330e0",
   "metadata": {},
   "outputs": [],
   "source": [
    "def download_one_by_one_apk_git(all_links,visiting_links_to,visiting_links_from):      \n",
    "        \n",
    "    if(len(all_links) >= visiting_links_from):\n",
    "        \n",
    "        if(len(all_links)<visiting_links_to):\n",
    "            visiting_links_to = len(all_links)\n",
    "            \n",
    "        for i in range(visiting_links_from,visiting_links_to):\n",
    "            try:\n",
    "                os.chdir(DOWNLOAD_BASE_PATH) \n",
    "                response = requests.get(all_links[i], headers={'User-Agent': 'Mozilla/5.0'})\n",
    "                response_code = response.status_code\n",
    "                if response_code != 200:\n",
    "                    print(\"Some Error\")\n",
    "                    return\n",
    "\n",
    "\n",
    "                html_content = response.content\n",
    "                dom = BeautifulSoup(html_content, 'html.parser')\n",
    "                each_page_contents_apk = dom.select(\"#fd-download-app\")        \n",
    "\n",
    "                apk_name =\"\" \n",
    "                is_already_downloaded = False\n",
    "                for each_page_content_apk in each_page_contents_apk:\n",
    "                    href_link = each_page_content_apk.attrs[\"href\"]\n",
    "                    apk_link = \"https://fossdroid.com\"+href_link                  \n",
    "\n",
    "                    r = requests.get(apk_link, allow_redirects=True)\n",
    "                    filename = apk_link[24:]\n",
    "                    apk_name = filename[:len(filename)-4]\n",
    "                    print(apk_name)                \n",
    "                    if (os.path.isdir(apk_name)!=True):     \n",
    "                        is_already_downloaded = False\n",
    "                        #os.mkdir(apk_name)\n",
    "                        #os.chdir(DOWNLOAD_BASE_PATH+\"/\"+apk_name)\n",
    "                        os.chdir(DOWNLOAD_BASE_PATH+\"/\")\n",
    "                        open(filename, 'wb').write(r.content)\n",
    "                        \n",
    "                    else:\n",
    "                        is_already_downloaded = True                     \n",
    "                \n",
    "#                 if is_already_downloaded == False:\n",
    "#                     each_page_contents_git = dom.select(\"#fd-source-app\")   \n",
    "#                     for each_page_content_git in each_page_contents_git:\n",
    "#                         github_link = each_page_content_git.attrs[\"href\"]\n",
    "#                         subprocess.call(\"git clone \"+github_link+\".git\")\n",
    "                    \n",
    "            except Exception as e:\n",
    "                    print(e)\n",
    "                    continue \n",
    "                "
   ]
  },
  {
   "cell_type": "code",
   "execution_count": 6,
   "id": "39535b29",
   "metadata": {},
   "outputs": [],
   "source": [
    "def delete_git_unavailable_folders():\n",
    "    git_unavailable_list = []\n",
    "    folders = os.listdir(DOWNLOAD_BASE_PATH)\n",
    "    print(\"Number of all downloads : \", len(folders))\n",
    "\n",
    "    for folder in folders:\n",
    "        try:\n",
    "            files  = os.listdir(DOWNLOAD_BASE_PATH+\"/\"+folder)\n",
    "            if(len(files)<2):\n",
    "                git_unavailable_list.append(folder)\n",
    "        except:\n",
    "            continue    \n",
    "\n",
    "    for non_git_folder in git_unavailable_list:\n",
    "        try:\n",
    "            shutil.rmtree(DOWNLOAD_BASE_PATH+\"/\"+non_git_folder)\n",
    "        except:\n",
    "            continue\n",
    "            \n",
    "    print (\"Number of finalised Downloads : \", len(folders) - len(git_unavailable_list))"
   ]
  },
  {
   "cell_type": "code",
   "execution_count": 7,
   "id": "e39775c3",
   "metadata": {},
   "outputs": [],
   "source": [
    "def execute_process():        \n",
    "    print(\"****************Process Started*****************\")\n",
    "    \n",
    "    print(\"****************Started Scraping****************\")\n",
    "\n",
    "    print(\"***********Retrieveing all menu links***********\")\n",
    "    all_menu_links = get_menu_links()\n",
    "    \n",
    "    menu_count = len(all_menu_links)\n",
    "    print(\"Total number of menu :\",menu_count)\n",
    "    \n",
    "    for menu_no in range(0, menu_count):             \n",
    "    #for menu_no in range(8, 9): // enable to customize the search\n",
    "        try:         \n",
    "            print(\"**************Retrieveing all links**************\")\n",
    "            all_links = get_view_app_links(all_menu_links[menu_no:menu_no+1])\n",
    "            all_links_count = len(all_links)\n",
    "            print(\"Total number of links :\",all_links_count)\n",
    "                    \n",
    "            for visiting_links_from in range (0, all_links_count, 20):    \n",
    "            #for visiting_links_from in range (80, 100, 20): // enable to customize the search\n",
    "                try:\n",
    "                    visiting_links_to = (visiting_links_from+20)\n",
    "                    print(\"Menu no = \",menu_no, \" Visiting links_from = \",visiting_links_from, \" Vsiting links_to = \",visiting_links_to)   \n",
    "                    print(\"****************Downloading files****************\")\n",
    "                    download_one_by_one_apk_git(all_links,visiting_links_to,visiting_links_from)\n",
    "                except Exception as e:\n",
    "                    print(e)\n",
    "                    continue \n",
    "                        \n",
    "        except Exception as ex:\n",
    "            print(ex)\n",
    "            continue     \n",
    "    \n",
    "    print(\"***********Cleaning GitHub repositories unavaialble downloads***********\")\n",
    "    \n",
    "    delete_git_unavailable_folders()\n",
    "                \n",
    "    print(\"****************Process Completed****************\")    "
   ]
  },
  {
   "cell_type": "code",
   "execution_count": null,
   "id": "1e9a3f78",
   "metadata": {
    "scrolled": true
   },
   "outputs": [],
   "source": [
    "execute_process()"
   ]
  }
 ],
 "metadata": {
  "kernelspec": {
   "display_name": "Python 3 (ipykernel)",
   "language": "python",
   "name": "python3"
  },
  "language_info": {
   "codemirror_mode": {
    "name": "ipython",
    "version": 3
   },
   "file_extension": ".py",
   "mimetype": "text/x-python",
   "name": "python",
   "nbconvert_exporter": "python",
   "pygments_lexer": "ipython3",
   "version": "3.11.3"
  }
 },
 "nbformat": 4,
 "nbformat_minor": 5
}
