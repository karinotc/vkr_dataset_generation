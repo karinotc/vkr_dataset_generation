{
 "cells": [
  {
   "cell_type": "markdown",
   "id": "5f4fd7c4",
   "metadata": {},
   "source": [
    "# Шаг 2: Сканирование приложений с помощью Quark Engine и составление отчётов об уязвимостях"
   ]
  },
  {
   "cell_type": "code",
   "execution_count": 1,
   "id": "ed340d40",
   "metadata": {},
   "outputs": [],
   "source": [
    "import os\n",
    "import re\n",
    "import csv\n",
    "import pandas as pd\n",
    "import json\n",
    "from interruptingcow import timeout\n",
    "import signal\n",
    "from quark.script import runQuarkAnalysis, Rule, findMethodInAPK, getApplication, checkMethodCalls, getReceivers, getActivities"
   ]
  },
  {
   "cell_type": "code",
   "execution_count": 2,
   "id": "bc7a29a1",
   "metadata": {},
   "outputs": [],
   "source": [
    "APK_PATH = \"D:\\\\ETU\\\\VKR\\\\apk_all\"\n",
    "RULE_MAIN_PATH = \"D:\\\\ETU\\\\VKR\\\\rules\"\n",
    "JSON_PATH = \"D:\\\\ETU\\\\VKR\\\\json\\\\\""
   ]
  },
  {
   "cell_type": "code",
   "execution_count": 3,
   "id": "509af324",
   "metadata": {
    "scrolled": true
   },
   "outputs": [],
   "source": [
    "def write_to_json(cwe_id=\"\", description=\"\", caller=\"\", target=\"\", json_obj={}):\n",
    "    path = caller.split(\";\")[0][1:].replace(\"/\", \"\\\\\")\n",
    "    caller_method = caller.split(\";\", 1)[1].replace(\" \", \"\")\n",
    "    target_method = target.split(\";\")[1].replace(\" \", \"\")\n",
    "\n",
    "    cwe = json_obj[\"cwe\"]\n",
    "    \n",
    "    new_cwe = {\n",
    "        \"id\":cwe_id,\n",
    "        \"description\":description,\n",
    "        \"caller\":caller_method,\n",
    "        \"target\":target_method\n",
    "    }\n",
    "    \n",
    "    if not cwe:\n",
    "        new_list_entry = {\n",
    "        \"path\":path,\n",
    "        \"list\":[]\n",
    "        }\n",
    "        new_list_entry[\"list\"].append(new_cwe)\n",
    "        json_obj[\"cwe\"].append(new_list_entry)\n",
    "    else:\n",
    "        entry_path = \"\"\n",
    "        for entry in cwe:\n",
    "            if path == entry[\"path\"]:\n",
    "                entry_path = entry[\"path\"]\n",
    "        \n",
    "        if entry_path:\n",
    "            for entry in cwe:\n",
    "                if entry[\"path\"] == entry_path: entry[\"list\"].append(new_cwe)\n",
    "        else:\n",
    "            new_list_entry = {\n",
    "                \"path\":path,\n",
    "                \"list\":[]\n",
    "            }\n",
    "            new_list_entry[\"list\"].append(new_cwe)\n",
    "            json_obj[\"cwe\"].append(new_list_entry)"
   ]
  },
  {
   "cell_type": "markdown",
   "id": "b5c7182b",
   "metadata": {},
   "source": [
    "## Функции поиска уязвимостей"
   ]
  },
  {
   "cell_type": "code",
   "execution_count": 4,
   "id": "6f9e85b2",
   "metadata": {},
   "outputs": [],
   "source": [
    "def CWE_22(SAMPLE_PATH, json_obj):\n",
    "    RULE_PATH = RULE_MAIN_PATH + \"/\" + \"accessFileInExternalDir.json\"\n",
    "\n",
    "    STRING_MATCHING_API = [\n",
    "        [\"Ljava/lang/String;\", \"contains\", \"(Ljava/lang/CharSequence)Z\"],\n",
    "        [\"Ljava/lang/String;\", \"indexOf\", \"(I)I\"],\n",
    "        [\"Ljava/lang/String;\", \"indexOf\", \"(Ljava/lang/String;)I\"],\n",
    "        [\"Ljava/lang/String;\", \"matches\", \"(Ljava/lang/String;)Z\"],\n",
    "    ]\n",
    "\n",
    "\n",
    "    ruleInstance = Rule(RULE_PATH)\n",
    "    quarkResult = runQuarkAnalysis(SAMPLE_PATH, ruleInstance)\n",
    "    \n",
    "    for accessExternalDir in quarkResult.behaviorOccurList:\n",
    "        target =  accessExternalDir.firstAPI.fullName.split(\";\")[1].replace(\" \", \"\")\n",
    "        filePath = [s for s in accessExternalDir.secondAPI.getArguments() if target in s][0]\n",
    "        \n",
    "        if quarkResult.isHardcoded(filePath):\n",
    "            continue\n",
    "\n",
    "        caller = accessExternalDir.methodCaller\n",
    "        strMatchingAPIs = [\n",
    "                api for api in STRING_MATCHING_API if quarkResult.findMethodInCaller(\n",
    "                    caller, api)\n",
    "        ]\n",
    "\n",
    "        if not strMatchingAPIs:\n",
    "            print(f\"CWE-22 is detected in method, {caller.fullName}\")\n",
    "            write_to_json(\n",
    "                cwe_id=\"CWE-22\",\n",
    "                description=\"Improper Limitation of a Pathname to a Restricted Directory\",\n",
    "                caller=caller.fullName,\n",
    "                target=accessExternalDir.firstAPI.fullName,\n",
    "                json_obj=json_obj)"
   ]
  },
  {
   "cell_type": "code",
   "execution_count": 5,
   "id": "db724cf3",
   "metadata": {},
   "outputs": [],
   "source": [
    "def CWE_23(SAMPLE_PATH, json_obj):\n",
    "    RULE_PATH = RULE_MAIN_PATH + \"/\" + \"accessFileInExternalDir.json\"\n",
    "\n",
    "    STRING_MATCHING_API = [\n",
    "        [\"Ljava/lang/String;\", \"contains\", \"(Ljava/lang/CharSequence)Z\"],\n",
    "        [\"Ljava/lang/String;\", \"indexOf\", \"(I)I\"],\n",
    "        [\"Ljava/lang/String;\", \"indexOf\", \"(Ljava/lang/String;)I\"],\n",
    "        [\"Ljava/lang/String;\", \"matches\", \"(Ljava/lang/String;)Z\"],\n",
    "        [\"Ljava/lang/String;\", \"replaceAll\",\n",
    "            \"(Ljava/lang/String; Ljava/lang/String;)Ljava/lang/String;\"],\n",
    "    ]\n",
    "\n",
    "    ruleInstance = Rule(RULE_PATH)\n",
    "    quarkResult = runQuarkAnalysis(SAMPLE_PATH, ruleInstance)\n",
    "\n",
    "    for accessExternalDir in quarkResult.behaviorOccurList:\n",
    "\n",
    "        filePath = accessExternalDir.secondAPI.getArguments()[2]\n",
    "\n",
    "        if quarkResult.isHardcoded(filePath):\n",
    "            continue\n",
    "\n",
    "        caller = accessExternalDir.methodCaller\n",
    "        strMatchingAPIs = [\n",
    "            api for api in STRING_MATCHING_API if quarkResult.findMethodInCaller(\n",
    "                caller, api)\n",
    "        ]\n",
    "\n",
    "        if not strMatchingAPIs:\n",
    "            print(f\"CWE-23 is detected in method, {caller.fullName}\")\n",
    "            write_to_json(\n",
    "                cwe_id=\"CWE-23\", \n",
    "                description=\"Relative Path Traversal\",\n",
    "                caller=caller.fullName,\n",
    "                target=accessExternalDir.firstAPI.fullName,\n",
    "                json_obj=json_obj)\n",
    "        elif strMatchingAPIs.find(\"..\") == -1:\n",
    "            print(f\"CWE-23 is detected in method, {caller.fullName}\")\n",
    "            write_to_json(\n",
    "                cwe_id=\"CWE-23\", \n",
    "                description=\"Relative Path Traversal\",\n",
    "                caller=caller.fullName,\n",
    "                target=accessExternalDir.firstAPI.fullName,\n",
    "                json_obj=json_obj)"
   ]
  },
  {
   "cell_type": "code",
   "execution_count": 6,
   "id": "d34a0456",
   "metadata": {},
   "outputs": [],
   "source": [
    "def CWE_73(SAMPLE_PATH, json_obj):\n",
    "    RULE_PATH = RULE_MAIN_PATH + \"/\" + \"accessFileInExternalDir.json\"\n",
    "\n",
    "    OPEN_FILE_API = [\n",
    "        \"Landroid/os/ParcelFileDescriptor;\",                   # Class name\n",
    "        \"open\",                                                # Method name\n",
    "        \"(Ljava/io/File; I)Landroid/os/ParcelFileDescriptor;\"  # Descriptor\n",
    "    ]\n",
    "\n",
    "    ruleInstance = Rule(RULE_PATH)\n",
    "    quarkResult = runQuarkAnalysis(SAMPLE_PATH, ruleInstance)\n",
    "\n",
    "    for accessExternalDir in quarkResult.behaviorOccurList:\n",
    "        filePath = accessExternalDir.secondAPI.getArguments()[2]\n",
    "\n",
    "        if quarkResult.isHardcoded(filePath):\n",
    "            continue\n",
    "\n",
    "        caller = accessExternalDir.methodCaller\n",
    "        result = quarkResult.findMethodInCaller(caller, OPEN_FILE_API)\n",
    "\n",
    "        if result:\n",
    "            print(\"CWE-73 is detected in method, \", caller.fullName)\n",
    "            write_to_json(\n",
    "                cwe_id=\"CWE-73\",\n",
    "                description=\"External Control of File Name or Path\",\n",
    "                caller=caller.fullName,\n",
    "                target=accessExternalDir.firstAPI.fullName,\n",
    "                json_obj=json_obj)"
   ]
  },
  {
   "cell_type": "code",
   "execution_count": 7,
   "id": "ef7c972f",
   "metadata": {},
   "outputs": [],
   "source": [
    "def CWE_78(SAMPLE_PATH, json_obj):\n",
    "    RULE_PATH = RULE_MAIN_PATH + \"/\" + \"ExternalStringCommand.json\"\n",
    "\n",
    "    STRING_MATCHING_API = set([\n",
    "        (\"Ljava/lang/String;\", \"contains\", \"(Ljava/lang/CharSequence)Z\"),\n",
    "        (\"Ljava/lang/String;\", \"indexOf\", \"(I)I\"),\n",
    "        (\"Ljava/lang/String;\", \"indexOf\", \"(Ljava/lang/String;)I\"),\n",
    "        (\"Ljava/lang/String;\", \"matches\", \"(Ljava/lang/String;)Z\"),\n",
    "        (\"Ljava/lang/String;\", \"replaceAll\", \"(Ljava/lang/String; Ljava/lang/String;)Ljava/lang/String;\")\n",
    "    ])\n",
    "\n",
    "    specialElementsPattern = r\"[ ;|,>`]+\"\n",
    "\n",
    "    ruleInstance = Rule(RULE_PATH)\n",
    "    quarkResult = runQuarkAnalysis(SAMPLE_PATH, ruleInstance)\n",
    "\n",
    "    for ExternalStringCommand in quarkResult.behaviorOccurList:\n",
    "\n",
    "        methodCalled = set()\n",
    "        caller = ExternalStringCommand.methodCaller\n",
    "\n",
    "        for method in ExternalStringCommand.getMethodsInArgs():\n",
    "            methodCalled.add(method.fullName)\n",
    "\n",
    "        if methodCalled.intersection(STRING_MATCHING_API) and not ExternalStringCommand.hasString(specialElementsPattern):\n",
    "            continue\n",
    "        else:\n",
    "            print(f\"CWE-78 is detected in method, {caller.fullName}\")\n",
    "            write_to_json(\n",
    "                cwe_id=\"CWE-78\",\n",
    "                description=\"Improper Neutralization of Special Elements used in an OS Command\",\n",
    "                caller=caller.fullName,\n",
    "                target=ExternalStringCommand.firstAPI.fullName,\n",
    "                json_obj=json_obj)"
   ]
  },
  {
   "cell_type": "code",
   "execution_count": 9,
   "id": "78395a26",
   "metadata": {},
   "outputs": [],
   "source": [
    "def CWE_88(SAMPLE_PATH, json_obj):\n",
    "    RULE_PATH = RULE_MAIN_PATH + \"/\" + \"ExternalStringCommand.json\"\n",
    "\n",
    "\n",
    "    STRING_MATCHING_API = set([\n",
    "        (\"Ljava/lang/String;\", \"contains\", \"(Ljava/lang/CharSequence)Z\"),\n",
    "        (\"Ljava/lang/String;\", \"indexOf\", \"(I)I\"),\n",
    "        (\"Ljava/lang/String;\", \"indexOf\", \"(Ljava/lang/String;)I\"),\n",
    "        (\"Ljava/lang/String;\", \"matches\", \"(Ljava/lang/String;)Z\"),\n",
    "        (\"Ljava/lang/String;\", \"replaceAll\", \"(Ljava/lang/String; Ljava/lang/String;)Ljava/lang/String;\")\n",
    "    ])\n",
    "\n",
    "    delimeter = \"-\"\n",
    "\n",
    "    ruleInstance = Rule(RULE_PATH)\n",
    "    quarkResult = runQuarkAnalysis(SAMPLE_PATH, ruleInstance)\n",
    "\n",
    "    for ExternalStringCommand in quarkResult.behaviorOccurList:\n",
    "\n",
    "        methodCalled = set()\n",
    "        caller = ExternalStringCommand.methodCaller\n",
    "\n",
    "        for method in ExternalStringCommand.getMethodsInArgs():\n",
    "            methodCalled.add(method.fullName)\n",
    "\n",
    "        if methodCalled.intersection(STRING_MATCHING_API) and not ExternalStringCommand.hasString(delimeter):\n",
    "            continue\n",
    "        else:\n",
    "            print(f\"CWE-88 is detected in method, {caller.fullName}\")\n",
    "            \n",
    "            write_to_json(\n",
    "                cwe_id=\"CWE-88\",\n",
    "                description=\"Improper Neutralization of Argument Delimiters in a Command\",\n",
    "                caller=caller.fullName,\n",
    "                target=ExternalStringCommand.firstAPI.fullName,\n",
    "                json_obj=json_obj)"
   ]
  },
  {
   "cell_type": "code",
   "execution_count": 10,
   "id": "d0dbf417",
   "metadata": {},
   "outputs": [],
   "source": [
    "def CWE_89(SAMPLE_PATH, json_obj):\n",
    "    RULE_PATH = RULE_MAIN_PATH + \"/\" + \"executeSQLCommand.json\"\n",
    "\n",
    "    targetMethod = [\n",
    "        \"Landroid/widget/EditText;\", # class name\n",
    "        \"getText\",                   # method name\n",
    "        \"()Landroid/text/Editable;\", # descriptor\n",
    "    ]\n",
    "\n",
    "    ruleInstance = Rule(RULE_PATH)\n",
    "    quarkResult = runQuarkAnalysis(SAMPLE_PATH, ruleInstance)\n",
    "\n",
    "    for sqlCommandExecution in quarkResult.behaviorOccurList:\n",
    "        if sqlCommandExecution.isArgFromMethod(\n",
    "            targetMethod\n",
    "        ):\n",
    "            print(f\"CWE-89 is detected in {SAMPLE_PATH}\")\n",
    "            \n",
    "            write_to_json(\n",
    "                cwe_id=\"CWE-89\",\n",
    "                description=\"Improper Neutralization of Special Elements used in an SQL Command\",\n",
    "                caller=sqlCommandExecution.methodCaller.fullName,\n",
    "                target=sqlCommandExecution.secondAPI.fullName,\n",
    "                json_obj=json_obj)"
   ]
  },
  {
   "cell_type": "code",
   "execution_count": 11,
   "id": "893abc92",
   "metadata": {},
   "outputs": [],
   "source": [
    "#Тут тоже посмотреть, какой API брать\n",
    "def CWE_94(SAMPLE_PATH, json_obj):\n",
    "    RULE_PATH = RULE_MAIN_PATH + \"/\" + \"loadExternalCode.json\"\n",
    "\n",
    "    targetMethod = [\n",
    "            \"Landroid/content/pm/PackageManager;\",\n",
    "            \"checkSignatures\",\n",
    "            \"(Ljava/lang/String;Ljava/lang/String;)I\"\n",
    "            ]\n",
    "\n",
    "    ruleInstance = Rule(RULE_PATH)\n",
    "    quarkResult = runQuarkAnalysis(SAMPLE_PATH, ruleInstance)\n",
    "\n",
    "    for ldExternalCode in quarkResult.behaviorOccurList:\n",
    "\n",
    "        callerMethod = [\n",
    "                ldExternalCode.methodCaller.className,\n",
    "                ldExternalCode.methodCaller.methodName,\n",
    "                ldExternalCode.methodCaller.descriptor\n",
    "                ]\n",
    "\n",
    "        if not quarkResult.findMethodInCaller(callerMethod, targetMethod):\n",
    "            print(f\"Method: {targetMethod[1]} not found! CWE-94 is detected in {ldExternalCode.methodCaller.fullName}\")\n",
    "            \n",
    "            write_to_json(\n",
    "                cwe_id=\"CWE-94\",\n",
    "                description=\"Improper Control of Generation of Code\",\n",
    "                caller=ldExternalCode.methodCaller.fullName,\n",
    "                target=ldExternalCode.secondAPI.fullName, # 2 loadClass / 1 createPackageContext\n",
    "                json_obj=json_obj)"
   ]
  },
  {
   "cell_type": "code",
   "execution_count": 12,
   "id": "06939216",
   "metadata": {},
   "outputs": [],
   "source": [
    "def CWE_117(SAMPLE_PATH, json_obj):\n",
    "    RULE_PATH = RULE_MAIN_PATH + \"/\" + \"writeContentToLog.json\"\n",
    "    KEYWORDS_FOR_NEUTRALIZATION = [\"escape\", \"replace\", \"format\", \"setFilter\"]\n",
    "\n",
    "    ruleInstance = Rule(RULE_PATH)\n",
    "    quarkResult = runQuarkAnalysis(SAMPLE_PATH, ruleInstance)\n",
    "\n",
    "    for logOutputBehavior in quarkResult.behaviorOccurList:\n",
    "\n",
    "        secondAPIParam = logOutputBehavior.getParamValues()[1]\n",
    "\n",
    "        isKeywordFound = False\n",
    "        for keyword in KEYWORDS_FOR_NEUTRALIZATION:\n",
    "            if keyword in secondAPIParam:\n",
    "                isKeywordFound = True\n",
    "                break\n",
    "\n",
    "        if not isKeywordFound:\n",
    "            print(f\"CWE-117 is detected in method,{secondAPIParam}\")\n",
    "            \n",
    "            write_to_json(\n",
    "                cwe_id=\"CWE-117\",\n",
    "                description=\"Improper Output Neutralization for Logs\",\n",
    "                caller=secondAPIParam,\n",
    "                target=logOutputBehavior.secondAPI.fullName, # 2 d()Landroid/util/Log // 1 getText\n",
    "                json_obj=json_obj)"
   ]
  },
  {
   "cell_type": "code",
   "execution_count": 13,
   "id": "5bc3bf85",
   "metadata": {},
   "outputs": [],
   "source": [
    "def CWE_295(SAMPLE_PATH, json_obj):\n",
    "    TARGET_METHOD = [\n",
    "        \"Landroid/webkit/SslErrorHandler;\",  # class name\n",
    "        \"proceed\",                           # method name\n",
    "        \"()V\"                                # descriptor\n",
    "    ]\n",
    "    OVERRIDE_METHOD = [\n",
    "        \"Landroid/webkit/WebViewClient;\",    # class name\n",
    "        \"onReceivedSslError\",                # method name\n",
    "        \"(Landroid/webkit/WebView;\"+\" Landroid/webkit/SslErrorHandler;\" + \\\n",
    "        \" Landroid/net/http/SslError;)V\"     # descriptor\n",
    "    ]\n",
    "\n",
    "    for sslProceedCaller in findMethodInAPK(SAMPLE_PATH, TARGET_METHOD):\n",
    "        if (sslProceedCaller.name == OVERRIDE_METHOD[1] and\n",
    "           sslProceedCaller.descriptor == OVERRIDE_METHOD[2] and\n",
    "           OVERRIDE_METHOD[0] in sslProceedCaller.findSuperclassHierarchy()):\n",
    "            print(f\"CWE-295 is detected in method, {sslProceedCaller.fullName}\")\n",
    "            \n",
    "            write_to_json(\n",
    "                cwe_id=\"CWE-295\",\n",
    "                description=\"Improper Certificate Validation\",\n",
    "                caller=sslProceedCaller.fullName,\n",
    "                target=\" \".join(str(e) for e in OVERRIDE_METHOD),\n",
    "                json_obj=json_obj)"
   ]
  },
  {
   "cell_type": "code",
   "execution_count": 14,
   "id": "eb6c4a1c",
   "metadata": {},
   "outputs": [],
   "source": [
    "def CWE_319(SAMPLE_PATH, json_obj):\n",
    "    RULE_PATH = RULE_MAIN_PATH + \"/\" + \"setRetrofitBaseUrl.json\"\n",
    "\n",
    "    PROTOCOL_KEYWORDS = [\n",
    "        \"http\",\n",
    "        \"smtp\",\n",
    "        \"ftp\"\n",
    "    ]\n",
    "\n",
    "\n",
    "    ruleInstance = Rule(RULE_PATH)\n",
    "    quarkResult = runQuarkAnalysis(SAMPLE_PATH, ruleInstance)\n",
    "\n",
    "    for setRetrofitBaseUrl in quarkResult.behaviorOccurList:\n",
    "        for protocol in PROTOCOL_KEYWORDS:\n",
    "\n",
    "            regexRule = f\"{protocol}://[0-9A-Za-z./-]+\"\n",
    "            cleartextProtocolUrl = setRetrofitBaseUrl.hasString(regexRule, True)\n",
    "\n",
    "            if cleartextProtocolUrl:\n",
    "                print(f\"CWE-319 detected!\")\n",
    "                print(f\"Here are the found URLs with cleartext protocol:\")\n",
    "                print(\"\\n\".join(cleartextProtocolUrl))\n",
    "                \n",
    "                write_to_json(\n",
    "                    cwe_id=\"CWE-319\",\n",
    "                    description=\"Cleartext Transmission of Sensitive Information\",\n",
    "                    caller=setRetrofitBaseUrl.methodCaller.fullName,\n",
    "                    target=setRetrofitBaseUrl.secondAPI.fullName, # 2 baseUrl // <init>\n",
    "                    json_obj=json_obj)"
   ]
  },
  {
   "cell_type": "code",
   "execution_count": 15,
   "id": "8cf0181d",
   "metadata": {},
   "outputs": [],
   "source": [
    "def CWE_327(SAMPLE_PATH, json_obj):\n",
    "    RULE_PATH = RULE_MAIN_PATH + \"/\" + \"useOfCryptographicAlgo.json\"\n",
    "\n",
    "    WEAK_ALGORITHMS = [\"DES\", \"ARC4\", \"BLOWFISH\"]\n",
    "\n",
    "    ruleInstance = Rule(RULE_PATH)\n",
    "    quarkResult = runQuarkAnalysis(SAMPLE_PATH, ruleInstance)\n",
    "\n",
    "    for useCryptoAlgo in quarkResult.behaviorOccurList:\n",
    "\n",
    "        caller = useCryptoAlgo.methodCaller\n",
    "\n",
    "        for algo in WEAK_ALGORITHMS:\n",
    "            if useCryptoAlgo.hasString(algo):\n",
    "                print(f\"CWE-327 is detected in method, {caller.fullName}\")\n",
    "                \n",
    "                write_to_json(\n",
    "                    cwe_id=\"CWE-327\",\n",
    "                    description=\"Use of a Broken or Risky Cryptographic Algorithm\",\n",
    "                    caller=caller.fullName,\n",
    "                    target=useCryptoAlgo.firstAPI.fullName, # 1 getInstance / 2 init\n",
    "                    json_obj=json_obj)"
   ]
  },
  {
   "cell_type": "code",
   "execution_count": 16,
   "id": "a38056cd",
   "metadata": {},
   "outputs": [],
   "source": [
    "def CWE_328(SAMPLE_PATH, json_obj):\n",
    "    TARGET_METHODS = [\n",
    "        [\n",
    "            \"Ljava/security/MessageDigest;\", \"getInstance\",\n",
    "            \"(Ljava/lang/String;)Ljava/security/MessageDigest;\"\n",
    "        ],\n",
    "        [\n",
    "            \"Ljavax/crypto/SecretKeyFactory;\", \"getInstance\",\n",
    "            \"(Ljava/lang/String;)Ljavax/crypto/SecretKeyFactory;\"\n",
    "        ]\n",
    "    ]\n",
    "\n",
    "    HASH_KEYWORDS = [\n",
    "        \"MD2\",  \"MD4\",  \"MD5\",      \"PANAMA\",\n",
    "        \"SHA0\", \"SHA1\", \"HAVAL128\", \"RIPEMD128\"\n",
    "    ]\n",
    "\n",
    "    #for samplePath in SAMPLE_PATH:\n",
    "        #print(\"cwe 328 path: \", samplePath)\n",
    "    methodsFound = []\n",
    "    for target in TARGET_METHODS:\n",
    "        #methodsFound += findMethodInAPK(samplePath, target)\n",
    "        methodsFound += findMethodInAPK(SAMPLE_PATH, target)\n",
    "\n",
    "    for setHashAlgo in methodsFound:\n",
    "        algoName = setHashAlgo.getArguments()[0].replace(\"-\", \"\")\n",
    "\n",
    "        if any(keyword in algoName for keyword in HASH_KEYWORDS):\n",
    "            print(f\"CWE-328 is detected in {SAMPLE_PATH},\\n\\t\"\n",
    "                  f\"and it occurs in method, {setHashAlgo.fullName}\")\n",
    "            \n",
    "            write_to_json(\n",
    "                    cwe_id=\"CWE-328\",\n",
    "                    description=\"Use of Weak Hash\",\n",
    "                    caller=setHashAlgo.fullName,\n",
    "                    target=useCryptoAlgo.firstAPI.fullName, # 1 getInstance / 2 init\n",
    "                    json_obj=json_obj)"
   ]
  },
  {
   "cell_type": "code",
   "execution_count": 17,
   "id": "b6e5c5a6",
   "metadata": {},
   "outputs": [],
   "source": [
    "#А это тоже не использовать?\n",
    "def CWE_338(SAMPLE_PATH, json_obj):\n",
    "    RULE_PATH = RULE_MAIN_PATH + \"/\" + \"useMethodOfPRNG.json\"\n",
    "\n",
    "    CREDENTIAL_KEYWORDS = [\n",
    "        \"token\", \"password\", \"account\", \"encrypt\",\n",
    "        \"authentication\", \"authorization\", \"id\", \"key\"\n",
    "    ]\n",
    "\n",
    "    ruleInstance = Rule(RULE_PATH)\n",
    "    quarkResult = runQuarkAnalysis(SAMPLE_PATH, ruleInstance)\n",
    "\n",
    "    for usePRNGMethod in quarkResult.behaviorOccurList:\n",
    "        for prngCaller in usePRNGMethod.methodCaller.getXrefFrom():\n",
    "            if any(keyword in prngCaller.fullName\n",
    "                   for keyword in CREDENTIAL_KEYWORDS):\n",
    "                print(\"CWE-338 is detected in %s\" % prngCaller.fullName)\n",
    "                \n",
    "                write_to_json(\n",
    "                    cwe_id=\"CWE-338\",\n",
    "                    description=\"Use of Cryptographically Weak Pseudo-Random Number Generator\",\n",
    "                    caller=prngCaller.fullName,\n",
    "                    target=usePRNGMethod.secondAPI.fullName, # 2 nextInt / 1 <init>\n",
    "                    json_obj=json_obj)"
   ]
  },
  {
   "cell_type": "code",
   "execution_count": 18,
   "id": "5f9d9fb4",
   "metadata": {},
   "outputs": [],
   "source": [
    "#Как вписать?\n",
    "def CWE_489(SAMPLE_PATH, json_obj):\n",
    "    if getApplication(SAMPLE_PATH).isDebuggable():\n",
    "        print(f\"CWE-489 is detected in {SAMPLE_PATH}.\")\n",
    "        \n",
    "        #append_row(SAMPLE_PATH, \"CWE-489\", \"Active Debug Code\")"
   ]
  },
  {
   "cell_type": "code",
   "execution_count": 19,
   "id": "c86b3d64",
   "metadata": {},
   "outputs": [],
   "source": [
    "def CWE_502(SAMPLE_PATH, json_obj):\n",
    "    RULE_PATH = RULE_MAIN_PATH + \"/\" + \"deserializeData.json\"\n",
    "\n",
    "    ruleInstance = Rule(RULE_PATH)\n",
    "\n",
    "    result = runQuarkAnalysis(SAMPLE_PATH, ruleInstance)\n",
    "\n",
    "    verificationApis = [\n",
    "        [\"Ljava/io/File;\", \"exists\", \"()Z\"],\n",
    "        [\"Landroid/content/Context;\", \"getFilesDir\", \"()Ljava/io/File;\"],\n",
    "        [\"Landroid/content/Context;\", \"getExternalFilesDir\", \"(Ljava/lang/String;)Ljava/io/File;\"],\n",
    "        [\"Landroid/os/Environment;\", \"getExternalStorageDirectory\", \"()Ljava/io/File;\"],\n",
    "    ]\n",
    "\n",
    "    for dataDeserialization in result.behaviorOccurList:\n",
    "        apis = dataDeserialization.getMethodsInArgs()\n",
    "        caller = dataDeserialization.methodCaller\n",
    "        if not any(api in apis for api in verificationApis):\n",
    "            print(f\"CWE-502 is detected in method, {caller.fullName}\")\n",
    "            \n",
    "            write_to_json(\n",
    "                cwe_id=\"CWE-502\",\n",
    "                description=\"Deserialization of Untrusted Data\",\n",
    "                caller=dataDeserialization.methodCaller.fullName,\n",
    "                target=dataDeserialization.secondAPI.fullName, # 2 readObject / 1 <init>\n",
    "                json_obj=json_obj)"
   ]
  },
  {
   "cell_type": "code",
   "execution_count": 20,
   "id": "92723a5b",
   "metadata": {},
   "outputs": [],
   "source": [
    "def CWE_532(SAMPLE_PATH, json_obj):\n",
    "    TARGET_METHOD = [\n",
    "        \"Landroid/util/Log;\",                       # class name\n",
    "        \"d\",                                        # method name\n",
    "        \"(Ljava/lang/String; Ljava/lang/String;)I\"  # descriptor\n",
    "    ]\n",
    "    CREDENTIAL_KEYWORDS = [\n",
    "        \"token\",\n",
    "        \"decrypt\",\n",
    "        \"password\"\n",
    "    ]\n",
    "\n",
    "    methodsFound = findMethodInAPK(SAMPLE_PATH, TARGET_METHOD)\n",
    "\n",
    "    for debugLogger in methodsFound:\n",
    "        arguments = debugLogger.getArguments()\n",
    "        \n",
    "        if len(arguments) > 1:\n",
    "            for keyword in CREDENTIAL_KEYWORDS:\n",
    "                #if keyword in arguments[1]:\n",
    "                if keyword in arguments[0]:\n",
    "                    print(f\"CWE-532 is detected in method, {debugLogger.fullName}\")\n",
    "\n",
    "                    write_to_json(\n",
    "                        cwe_id=\"CWE-532\",\n",
    "                        description=\"Insertion of Sensitive Information into Log File\",\n",
    "                        caller=debugLogger.fullName,\n",
    "                        target=\" \".join(str(e) for e in TARGET_METHOD),\n",
    "                        json_obj=json_obj)"
   ]
  },
  {
   "cell_type": "code",
   "execution_count": 21,
   "id": "f62e5f75",
   "metadata": {},
   "outputs": [],
   "source": [
    "#Проверить таргет на примере\n",
    "def CWE_601(SAMPLE_PATH, json_obj):\n",
    "    TARGET_METHOD = [\"\", \"startActivity\", \"(Landroid/content/Intent;)V\"]  \n",
    "    target = \";\" + TARGET_METHOD[1] + TARGET_METHOD[2]\n",
    "    \"\"\"\n",
    "    Due to varying descriptors and classes in smali code from different APIs, \n",
    "    our search relies solely on the consistent method names.\n",
    "    \"\"\"\n",
    "\n",
    "    EXTERNAL_INPUT_METHODS = [\n",
    "       \"getIntent\", \n",
    "       \"getQueryParameter\"\n",
    "    ]\n",
    "\n",
    "    INPUT_FILTER_METHODS = [\n",
    "       \"parse\", \n",
    "       \"isValidUrl\", \n",
    "       \"Pattern\", \n",
    "       \"Matcher\", \n",
    "       \"encode\", \n",
    "       \"decode\", \n",
    "       \"escapeHtml\", \n",
    "       \"HttpURLConnection\"\n",
    "    ]\n",
    "\n",
    "    redirectMethods = findMethodInAPK(SAMPLE_PATH, TARGET_METHOD)\n",
    "\n",
    "    for redirectMethod in redirectMethods:\n",
    "        arguments = redirectMethod.getArguments()\n",
    "        for argument in arguments:\n",
    "            if any(externalInput in argument for externalInput in EXTERNAL_INPUT_METHODS):\n",
    "                if not any(filterMethod in argument for filterMethod in INPUT_FILTER_METHODS):\n",
    "                    print(f\"CWE-601 is detected in {redirectMethod.fullName}\")\n",
    "\n",
    "                    write_to_json(\n",
    "                        cwe_id=\"CWE-601\",\n",
    "                        description=\"URL Redirection to Untrusted Site\",\n",
    "                        caller=redirectMethod.fullName,\n",
    "                        target=target,\n",
    "                        json_obj=json_obj)"
   ]
  },
  {
   "cell_type": "code",
   "execution_count": 22,
   "id": "c7eb208d",
   "metadata": {},
   "outputs": [],
   "source": [
    "def CWE_749(SAMPLE_PATH, json_obj):\n",
    "    RULE_PATH = RULE_MAIN_PATH + \"/\" + \"configureJsExecution.json\"\n",
    "\n",
    "    targetMethod = [\n",
    "        \"Landroid/webkit/WebView;\",\n",
    "        \"addJavascriptInterface\",\n",
    "        \"(Ljava/lang/Object; Ljava/lang/String;)V\"\n",
    "    ]\n",
    "\n",
    "    ruleInstance = Rule(RULE_PATH)\n",
    "    quarkResult = runQuarkAnalysis(SAMPLE_PATH, ruleInstance)\n",
    "\n",
    "    for configureJsExecution in quarkResult.behaviorOccurList:\n",
    "        caller = configureJsExecution.methodCaller\n",
    "        secondAPI = configureJsExecution.secondAPI\n",
    "\n",
    "        if len(secondAPI.getArguments()) > 0:\n",
    "            #enableJS = secondAPI.getArguments()[1]\n",
    "            enableJS = secondAPI.getArguments()[0]\n",
    "            exposeAPI = quarkResult.findMethodInCaller(caller, targetMethod)\n",
    "\n",
    "            if enableJS and exposeAPI:\n",
    "                print(f\"CWE-749 is detected in method, {caller.fullName}\")\n",
    "                \n",
    "                write_to_json(\n",
    "                    cwe_id=\"CWE-749\",\n",
    "                    description=\"Exposed Dangerous Method or Function\",\n",
    "                    caller=configureJsExecution.methodCaller.fullName,\n",
    "                    target=configureJsExecution.secondAPI.fullName,\n",
    "                    json_obj=json_obj)"
   ]
  },
  {
   "cell_type": "code",
   "execution_count": 23,
   "id": "94af4373",
   "metadata": {},
   "outputs": [],
   "source": [
    "def CWE_780(SAMPLE_PATH, json_obj):\n",
    "    RULE_PATH = RULE_MAIN_PATH + \"/\" + \"useOfCryptographicAlgo.json\"\n",
    "\n",
    "    ruleInstance = Rule(RULE_PATH)\n",
    "    quarkResult = runQuarkAnalysis(SAMPLE_PATH, ruleInstance)\n",
    "\n",
    "    for useCryptographicAlgo in quarkResult.behaviorOccurList:\n",
    "\n",
    "        methodCaller = useCryptographicAlgo.methodCaller\n",
    "\n",
    "        if useCryptographicAlgo.hasString(\"RSA\") and \\\n",
    "            not useCryptographicAlgo.hasString(\"OAEP\"):\n",
    "            print(f\"CWE-780 is detected in method, {methodCaller.fullName}\")\n",
    "            \n",
    "            write_to_json(\n",
    "                cwe_id=\"CWE-780\",\n",
    "                description=\"Use of RSA Algorithm without OAEP\",\n",
    "                caller=methodCaller.fullName,\n",
    "                target=useCryptographicAlgo.firstAPI.fullName, # 1 getInstance / 2 init\n",
    "                json_obj=json_obj)"
   ]
  },
  {
   "cell_type": "code",
   "execution_count": 24,
   "id": "7f50f4a2",
   "metadata": {},
   "outputs": [],
   "source": [
    "def CWE_798(SAMPLE_PATH, json_obj):\n",
    "    RULE_PATH = RULE_MAIN_PATH + \"/\" + \"findSecretKeySpec.json\"\n",
    "\n",
    "    ruleInstance = Rule(RULE_PATH)\n",
    "    quarkResult = runQuarkAnalysis(SAMPLE_PATH, ruleInstance)\n",
    "\n",
    "    for secretKeySpec in quarkResult.behaviorOccurList:\n",
    "\n",
    "        allStrings = quarkResult.getAllStrings()\n",
    "\n",
    "        firstParam = secretKeySpec.getParamValues()[1]\n",
    "        secondParam = secretKeySpec.getParamValues()[2]\n",
    "\n",
    "        if secondParam == \"AES\":\n",
    "            AESKey = re.findall(r'\\((.*?)\\)', firstParam)[1]\n",
    "\n",
    "        if AESKey in allStrings:\n",
    "            print(f\"Found hard-coded {secondParam} key {AESKey}\")\n",
    "            \n",
    "            write_to_json(\n",
    "                cwe_id=\"CWE-798\",\n",
    "                description=\"Use of Hard-coded Credentials\",\n",
    "                caller=secretKeySpec.methodCaller.fullName,\n",
    "                target=secretKeySpec.firstAPI.fullName, # 1 getBytes / 2 init\n",
    "                json_obj=json_obj)"
   ]
  },
  {
   "cell_type": "code",
   "execution_count": 25,
   "id": "ae845df2",
   "metadata": {},
   "outputs": [],
   "source": [
    "def CWE_921(SAMPLE_PATH, json_obj):\n",
    "    RULE_PATH = RULE_MAIN_PATH + \"/\" + \"checkFileExistence.json\"\n",
    "\n",
    "    ruleInstance = Rule(RULE_PATH)\n",
    "    quarkResult = runQuarkAnalysis(SAMPLE_PATH, ruleInstance)\n",
    "\n",
    "    for existingFile in quarkResult.behaviorOccurList:\n",
    "        filePath = existingFile.getParamValues()[0]\n",
    "        if \"sdcard\" in filePath:\n",
    "            print(f\"This file is stored inside the SDcard\\n\")\n",
    "            print(f\"CWE-921 is detected in {existingFile.methodCaller.fullName}.\")\n",
    "            \n",
    "            write_to_json(\n",
    "                cwe_id=\"CWE-921\",\n",
    "                description=\"Storage of Sensitive Data in a Mechanism without Access Control\",\n",
    "                caller=existingFile.methodCaller.fullName,\n",
    "                target=existingFile.secondAPI.fullName, # 2 exists / 1 init\n",
    "                json_obj=json_obj)"
   ]
  },
  {
   "cell_type": "code",
   "execution_count": 26,
   "id": "14a2540f",
   "metadata": {},
   "outputs": [],
   "source": [
    "def CWE_925(SAMPLE_PATH, json_obj):\n",
    "    TARGET_METHOD = [\n",
    "        '',\n",
    "        'onReceive',\n",
    "        '(Landroid/content/Context; Landroid/content/Intent;)V'\n",
    "    ]\n",
    "\n",
    "    CHECK_METHODS = [\n",
    "        ['Landroid/content/Intent;', 'getAction', '()Ljava/lang/String;']\n",
    "    ]\n",
    "\n",
    "    receivers = getReceivers(SAMPLE_PATH)\n",
    "    for receiver in receivers:\n",
    "        if receiver.isExported():\n",
    "            className = \"L\"+str(receiver).replace('.', '/')+';'\n",
    "            TARGET_METHOD[0] = className\n",
    "            if not checkMethodCalls(SAMPLE_PATH, TARGET_METHOD, CHECK_METHODS):\n",
    "                print(f\"CWE-925 is detected in method, {className}\")\n",
    "                \n",
    "                write_to_json(\n",
    "                    cwe_id=\"CWE-925\",\n",
    "                    description=\"Improper Verification of Intent by Broadcast Receiver\",\n",
    "                    caller=className,\n",
    "                    target=TARGET_METHOD[1] + TARGET_METHOD[2],\n",
    "                    json_obj=json_obj)"
   ]
  },
  {
   "cell_type": "code",
   "execution_count": 27,
   "id": "b9194d00",
   "metadata": {},
   "outputs": [],
   "source": [
    "def CWE_926(SAMPLE_PATH, json_obj):\n",
    "    for activityInstance in getActivities(SAMPLE_PATH):\n",
    "\n",
    "        if activityInstance.hasIntentFilter() and activityInstance.isExported():\n",
    "            print(f\"CWE-926 is detected in the activity, {activityInstance}\")"
   ]
  },
  {
   "cell_type": "code",
   "execution_count": 28,
   "id": "f2f0b000",
   "metadata": {},
   "outputs": [],
   "source": [
    "def CWE_940(SAMPLE_PATH, json_obj):\n",
    "    RULE_PATH =  RULE_MAIN_PATH + \"/\" +  \"LoadUrlFromIntent.json\"\n",
    "\n",
    "    INTENT_SETTING_METHODS = [\n",
    "        \"findViewById\",\n",
    "        \"getStringExtra\",\n",
    "        \"getIntent\",\n",
    "    ]\n",
    "\n",
    "    ruleInstance = Rule(RULE_PATH)\n",
    "\n",
    "    quarkResult = runQuarkAnalysis(SAMPLE_PATH, ruleInstance)\n",
    "\n",
    "    for behaviorInstance in quarkResult.behaviorOccurList:\n",
    "        methodsInArgs = behaviorInstance.getMethodsInArgs()\n",
    "\n",
    "        verifiedMethodCandidates = []\n",
    "\n",
    "        for method in methodsInArgs:\n",
    "            if method.methodName not in INTENT_SETTING_METHODS:\n",
    "                verifiedMethodCandidates.append(method)\n",
    "\n",
    "        if verifiedMethodCandidates == []:\n",
    "            caller = behaviorInstance.methodCaller.fullName\n",
    "            print(f\"cwe-940 is detected in method, {caller}\")\n",
    "            \n",
    "            write_to_json(\n",
    "                cwe_id=\"CWE-940\",\n",
    "                description=\"Improper Verification of Source of a Communication Channel\",\n",
    "                caller=caller,\n",
    "                target=behaviorInstance.secondAPI.fullName, # 2 loadUrl / 1 getData\n",
    "                json_obj=json_obj)"
   ]
  },
  {
   "cell_type": "code",
   "execution_count": null,
   "id": "2a0648ca",
   "metadata": {
    "scrolled": true
   },
   "outputs": [
    {
     "name": "stdout",
     "output_type": "stream",
     "text": [
      "***************File Name : InjuredAndroid.apk***************\n"
     ]
    },
    {
     "name": "stderr",
     "output_type": "stream",
     "text": [
      "Requested API level 29 is larger than maximum we have, returning API level 28 instead.\n"
     ]
    },
    {
     "name": "stdout",
     "output_type": "stream",
     "text": [
      "CWE-502 is detected in method, Lio/flutter/plugins/a/a; c (Ljava/lang/String;)Ljava/util/List;\n",
      "***************File Name : InsecureShop.apk***************\n"
     ]
    },
    {
     "name": "stderr",
     "output_type": "stream",
     "text": [
      "Requested API level 29 is larger than maximum we have, returning API level 28 instead.\n"
     ]
    },
    {
     "name": "stdout",
     "output_type": "stream",
     "text": [
      "CWE-79 is detected in method, Lcom/insecureshop/WebViewActivity; onCreate (Landroid/os/Bundle;)V\n",
      "CWE-79 is detected in method, Lcom/insecureshop/WebView2Activity; onCreate (Landroid/os/Bundle;)V\n",
      "CWE-117 is detected in method,Ljava/lang/String;->valueOf(Ljava/lang/Object;)Ljava/lang/String;(Lcom/google/android/material/textfield/TextInputEditText;->getText()Landroid/text/Editable;(Lcom/google/android/material/textfield/TextInputEditText;->getText()Landroid/text/Editable;(view)))\n",
      "CWE-502 is detected in method, Landroidx/versionedparcelable/VersionedParcel; readSerializable ()Ljava/io/Serializable;\n",
      "CWE-601 is detected in Lcom/insecureshop/WebView2Activity; onCreate (Landroid/os/Bundle;)V\n",
      "***************File Name : MSTG-Android-Java.apk***************\n",
      "CWE-22 is detected in method, Lsg/vp/owasp_mobile/OMTG_Android/OMTG_DATAST_001_ExternalStorage; onCreate (Landroid/os/Bundle;)V\n",
      "CWE-502 is detected in method, Landroidx/versionedparcelable/VersionedParcel; readSerializable ()Ljava/io/Serializable;\n",
      "CWE-749 is detected in method, Lsg/vp/owasp_mobile/OMTG_Android/OMTG_ENV_005_WebView_Remote; onCreate (Landroid/os/Bundle;)V\n",
      "CWE-749 is detected in method, Lsg/vp/owasp_mobile/OMTG_Android/OMTG_ENV_005_WebView_Local; onCreate (Landroid/os/Bundle;)V\n",
      "***************File Name : ovaa.apk***************\n",
      "CWE-22 is detected in method, Loversecured/ovaa/providers/TheftOverwriteProvider; openFile (Landroid/net/Uri; Ljava/lang/String;)Landroid/os/ParcelFileDescriptor;\n",
      "CWE-319 detected!\n",
      "Here are the found URLs with cleartext protocol:\n",
      "http://example.com./api/v1/\n",
      "CWE-502 is detected in method, Landroidx/versionedparcelable/VersionedParcel; readSerializable ()Ljava/io/Serializable;\n",
      "CWE-601 is detected in Loversecured/ovaa/activities/DeeplinkActivity; processDeeplink (Landroid/net/Uri;)V\n",
      "CWE-601 is detected in Loversecured/ovaa/activities/LoginActivity; onLoginFinished ()V\n",
      "This file is stored inside the SDcard\n",
      "\n",
      "CWE-921 is detected in Loversecured/ovaa/OversecuredApplication; updateChecker ()V.\n",
      "***************File Name : pivaa.apk***************\n",
      "CWE-502 is detected in method, Lcom/htbridge/pivaa/handlers/ObjectSerialization; loadObject ()V\n",
      "***************File Name : Vuldroid.apk***************\n"
     ]
    },
    {
     "name": "stderr",
     "output_type": "stream",
     "text": [
      "Requested API level 29 is larger than maximum we have, returning API level 28 instead.\n"
     ]
    },
    {
     "name": "stdout",
     "output_type": "stream",
     "text": [
      "CWE-79 is detected in method, Lcom/vuldroid/application/ForgetPassword; onCreate (Landroid/os/Bundle;)V\n",
      "CWE-502 is detected in method, Landroidx/versionedparcelable/VersionedParcel; readSerializable ()Ljava/io/Serializable;\n",
      "***************File Name : deskcon.apk***************\n",
      "CWE-22 is detected in method, Landroid/support/v4/content/ContextCompat; getObbDirs (Landroid/content/Context;)[Ljava/io/File;\n",
      "CWE-22 is detected in method, Landroid/support/v4/content/ContextCompat; getExternalFilesDirs (Landroid/content/Context; Ljava/lang/String;)[Ljava/io/File;\n",
      "CWE-22 is detected in method, Landroid/support/v4/content/FileProvider; parsePathStrategy (Landroid/content/Context; Ljava/lang/String;)Landroid/support/v4/content/FileProvider$PathStrategy;\n",
      "CWE-22 is detected in method, Landroid/support/v4/content/ContextCompat; getExternalCacheDirs (Landroid/content/Context;)[Ljava/io/File;\n",
      "***************File Name : destiny.apk***************\n"
     ]
    },
    {
     "name": "stderr",
     "output_type": "stream",
     "text": [
      "Requested API level 31 is larger than maximum we have, returning API level 28 instead.\n"
     ]
    },
    {
     "name": "stdout",
     "output_type": "stream",
     "text": [
      "CWE-502 is detected in method, Lk0/a; d (Ljava/lang/String;)Ljava/util/List;\n",
      "***************File Name : dgapps.apk***************\n"
     ]
    },
    {
     "name": "stderr",
     "output_type": "stream",
     "text": [
      "Requested API level 1024 is larger than maximum we have, returning API level 28 instead.\n"
     ]
    },
    {
     "name": "stdout",
     "output_type": "stream",
     "text": [
      "***************File Name : dialer.apk***************\n"
     ]
    },
    {
     "name": "stderr",
     "output_type": "stream",
     "text": [
      "Requested API level 34 is larger than maximum we have, returning API level 28 instead.\n"
     ]
    },
    {
     "name": "stdout",
     "output_type": "stream",
     "text": [
      "CWE-601 is detected in Lcom/simplemobiletools/commons/activities/AboutActivity; o (Lcom/simplemobiletools/commons/activities/AboutActivity;)V\n",
      "CWE-601 is detected in La/d0; h ()V\n",
      "This file is stored inside the SDcard\n",
      "\n",
      "CWE-921 is detected in Lv7/i; r (Landroid/content/Context;)Ljava/lang/String;.\n",
      "***************File Name : diaspora-2.apk***************\n",
      "CWE-502 is detected in method, Landroidx/versionedparcelable/VersionedParcel; readSerializable ()Ljava/io/Serializable;\n",
      "***************File Name : dib2qm.apk***************\n"
     ]
    },
    {
     "name": "stderr",
     "output_type": "stream",
     "text": [
      "Requested API level 29 is larger than maximum we have, returning API level 28 instead.\n"
     ]
    },
    {
     "name": "stdout",
     "output_type": "stream",
     "text": [
      "CWE-502 is detected in method, Landroidx/work/Data; fromByteArray ([B)Landroidx/work/Data;\n",
      "***************File Name : dicio-assistant.apk***************\n"
     ]
    },
    {
     "name": "stderr",
     "output_type": "stream",
     "text": [
      "Requested API level 33 is larger than maximum we have, returning API level 28 instead.\n"
     ]
    },
    {
     "name": "stdout",
     "output_type": "stream",
     "text": [
      "CWE-502 is detected in method, Landroidx/versionedparcelable/VersionedParcel; readSerializable ()Ljava/io/Serializable;\n",
      "***************File Name : dimmer.apk***************\n",
      "CWE-22 is detected in method, Landroid/support/v4/content/FileProvider; parsePathStrategy (Landroid/content/Context; Ljava/lang/String;)Landroid/support/v4/content/FileProvider$PathStrategy;\n",
      "***************File Name : dinomail.apk***************\n",
      "CWE-502 is detected in method, Lio/flutter/plugins/a/a; a (Ljava/lang/String;)Ljava/util/List;\n",
      "***************File Name : diode.apk***************\n",
      "CWE-502 is detected in method, Lc/a/a/d/a; b (Landroid/content/Context;)Lc/a/a/d/a;\n",
      "CWE-601 is detected in Lin/shick/diode/comments/SavedCommentsActivity; a ()V\n",
      "CWE-601 is detected in Lin/shick/diode/threads/ThreadsListActivity; onResume ()V\n",
      "CWE-601 is detected in Lin/shick/diode/comments/CommentsListActivity; onResume ()V\n",
      "CWE-601 is detected in Lin/shick/diode/mail/InboxActivity; onResume ()V\n",
      "***************File Name : diolinux.apk***************\n",
      "CWE-22 is detected in method, Landroid/support/v4/content/ContextCompat; getObbDirs (Landroid/content/Context;)[Ljava/io/File;\n",
      "CWE-22 is detected in method, Landroid/support/v4/content/FileProvider; parsePathStrategy (Landroid/content/Context; Ljava/lang/String;)Landroid/support/v4/content/FileProvider$PathStrategy;\n",
      "CWE-22 is detected in method, Landroid/support/v4/content/ContextCompat; getExternalCacheDirs (Landroid/content/Context;)[Ljava/io/File;\n",
      "CWE-22 is detected in method, Landroid/support/v4/content/ContextCompat; getExternalFilesDirs (Landroid/content/Context; Ljava/lang/String;)[Ljava/io/File;\n",
      "***************File Name : dir.apk***************\n",
      "CWE-22 is detected in method, Lcom/a/a/c/e; c (Landroid/content/Context;)Ljava/io/File;\n",
      "CWE-601 is detected in Lcom/veniosg/dir/android/activity/h$1; onReceive (Landroid/content/Context; Landroid/content/Intent;)V\n",
      "***************File Name : disable-battery-warnings.apk***************\n",
      "***************File Name : disable-manager.apk***************\n",
      "***************File Name : discord-timestamp-inserter.apk***************\n"
     ]
    },
    {
     "name": "stderr",
     "output_type": "stream",
     "text": [
      "Requested API level 34 is larger than maximum we have, returning API level 28 instead.\n"
     ]
    },
    {
     "name": "stdout",
     "output_type": "stream",
     "text": [
      "***************File Name : discreet-launcher.apk***************\n"
     ]
    },
    {
     "name": "stderr",
     "output_type": "stream",
     "text": [
      "Requested API level 33 is larger than maximum we have, returning API level 28 instead.\n"
     ]
    },
    {
     "name": "stdout",
     "output_type": "stream",
     "text": [
      "***************File Name : discuz-hub.apk***************\n"
     ]
    },
    {
     "name": "stderr",
     "output_type": "stream",
     "text": [
      "Requested API level 31 is larger than maximum we have, returning API level 28 instead.\n"
     ]
    },
    {
     "name": "stdout",
     "output_type": "stream",
     "text": [
      "CWE-117 is detected in method,Ljava/lang/StringBuilder;->toString()Ljava/lang/String;(Ljava/lang/StringBuilder;->append(Ljava/lang/String;)Ljava/lang/StringBuilder;(Ljava/lang/StringBuilder;->append(Ljava/lang/String;)Ljava/lang/StringBuilder;(Ljava/lang/StringBuilder;-><init>()V(Ljava/lang/StringBuilder;),set link ),Ljava/lang/Object;->toString()Ljava/lang/String;(Lcom/google/android/material/textfield/TextInputEditText;->getText()Landroid/text/Editable;())))\n",
      "CWE-117 is detected in method,Ljava/lang/StringBuilder;->toString()Ljava/lang/String;(Ljava/lang/StringBuilder;->append(Ljava/lang/String;)Ljava/lang/StringBuilder;(Ljava/lang/StringBuilder;->append(Ljava/lang/String;)Ljava/lang/StringBuilder;(Ljava/lang/StringBuilder;-><init>()V(Ljava/lang/StringBuilder;),set password ),Ljava/lang/Object;->toString()Ljava/lang/String;(Lcom/google/android/material/textfield/TextInputEditText;->getText()Landroid/text/Editable;())))\n",
      "CWE-502 is detected in method, Landroidx/work/Data; fromByteArray ([B)Landroidx/work/Data;\n",
      "CWE-502 is detected in method, Lcom/franmontiel/persistentcookiejar/persistence/SerializableCookie; decode (Ljava/lang/String;)Lokhttp3/Cookie;\n",
      "CWE-502 is detected in method, Lcom/kidozh/discuzhub/utilities/PersistentCookieStore; decodeCookie (Ljava/lang/String;)Lokhttp3/Cookie;\n",
      "CWE-532 is detected in method, Lcom/kidozh/discuzhub/viewModels/LoginViewModel; login (Lokhttp3/OkHttpClient; Ljava/lang/String; Ljava/lang/String; I Ljava/lang/String; Ljava/lang/String; Ljava/lang/String;)V\n",
      "***************File Name : disroot-app.apk***************\n"
     ]
    },
    {
     "name": "stderr",
     "output_type": "stream",
     "text": [
      "Requested API level 32 is larger than maximum we have, returning API level 28 instead.\n"
     ]
    },
    {
     "name": "stdout",
     "output_type": "stream",
     "text": [
      "CWE-502 is detected in method, Landroidx/versionedparcelable/VersionedParcel; readSerializable ()Ljava/io/Serializable;\n",
      "***************File Name : dns66.apk***************\n"
     ]
    },
    {
     "name": "stderr",
     "output_type": "stream",
     "text": [
      "Requested API level 29 is larger than maximum we have, returning API level 28 instead.\n"
     ]
    },
    {
     "name": "stdout",
     "output_type": "stream",
     "text": [
      "CWE-502 is detected in method, Landroidx/versionedparcelable/VersionedParcel; readSerializable ()Ljava/io/Serializable;\n",
      "***************File Name : dnsfilter.apk***************\n"
     ]
    },
    {
     "name": "stderr",
     "output_type": "stream",
     "text": [
      "Requested API level 33 is larger than maximum we have, returning API level 28 instead.\n"
     ]
    },
    {
     "name": "stdout",
     "output_type": "stream",
     "text": [
      "CWE-502 is detected in method, Lutil/Utils; deserializeObject ([B)Ljava/lang/Object;\n",
      "CWE-502 is detected in method, Ldnsfilter/remote/RemoteAccessClient; getConfig ()Ljava/util/Properties;\n",
      "***************File Name : dns-hero.apk***************\n"
     ]
    },
    {
     "name": "stderr",
     "output_type": "stream",
     "text": [
      "Requested API level 33 is larger than maximum we have, returning API level 28 instead.\n"
     ]
    },
    {
     "name": "stdout",
     "output_type": "stream",
     "text": [
      "***************File Name : dokuwiki.apk***************\n"
     ]
    },
    {
     "name": "stderr",
     "output_type": "stream",
     "text": [
      "Requested API level 33 is larger than maximum we have, returning API level 28 instead.\n"
     ]
    },
    {
     "name": "stdout",
     "output_type": "stream",
     "text": [
      "CWE-502 is detected in method, Lorg/apache/xmlrpc/parser/SerializableParser; getResult ()Ljava/lang/Object;\n",
      "CWE-502 is detected in method, Lorg/apache/xmlrpc/parser/XmlRpcResponseParser; addResult (Ljava/lang/Object;)V\n",
      "CWE-532 is detected in method, Lcom/fabienli/dokuwiki/sync/XmlRpcAdapter; <init> (Landroid/content/Context;)V\n",
      "***************File Name : dolidroid.apk***************\n"
     ]
    },
    {
     "name": "stderr",
     "output_type": "stream",
     "text": [
      "Requested API level 32 is larger than maximum we have, returning API level 28 instead.\n"
     ]
    },
    {
     "name": "stdout",
     "output_type": "stream",
     "text": [
      "CWE-502 is detected in method, Landroidx/versionedparcelable/VersionedParcel; readSerializable ()Ljava/io/Serializable;\n",
      "CWE-502 is detected in method, Lorg/bouncycastle/pqc/crypto/xmss/XMSSUtil; deserialize ([B Ljava/lang/Class;)Ljava/lang/Object;\n",
      "CWE-749 is detected in method, Lcom/nltechno/dolidroidpro/SecondActivity; onCreate (Landroid/os/Bundle;)V\n",
      "***************File Name : domodroid.apk***************\n",
      "CWE-22 is detected in method, Lactivities/Activity_Map; i ()V\n",
      "CWE-22 is detected in method, Lcom/facebook/stetho/dumpapp/plugins/FilesDumperPlugin; resolvePossibleSdcardPath (Ljava/lang/String;)Ljava/io/File;\n",
      "CWE-502 is detected in method, Lcom/squareup/leakcanary/internal/DisplayLeakActivity$LoadLeaks; run ()V\n",
      "CWE-502 is detected in method, La/f; a (Ljava/io/File; Lh/g;)Ljava/lang/Boolean;\n",
      "CWE-601 is detected in Lactivities/Activity_Map; k ()V\n",
      "This file is stored inside the SDcard\n",
      "\n",
      "CWE-921 is detected in Lorg/d/e/d/e; c ()Ljava/util/Set;.\n",
      "***************File Name : dontkillmyapp.apk***************\n"
     ]
    },
    {
     "name": "stderr",
     "output_type": "stream",
     "text": [
      "Requested API level 29 is larger than maximum we have, returning API level 28 instead.\n"
     ]
    },
    {
     "name": "stdout",
     "output_type": "stream",
     "text": [
      "CWE-502 is detected in method, Landroidx/versionedparcelable/VersionedParcel; readSerializable ()Ljava/io/Serializable;\n",
      "***************File Name : do-swimmer.apk***************\n",
      "CWE-502 is detected in method, Lcz/msebera/android/httpclient/impl/client/cache/DefaultHttpCacheEntrySerializer; readFrom (Ljava/io/InputStream;)Lcz/msebera/android/httpclient/client/cache/HttpCacheEntry;\n",
      "CWE-502 is detected in method, Lcom/loopj/android/http/PersistentCookieStore; decodeCookie (Ljava/lang/String;)Lcz/msebera/android/httpclient/cookie/Cookie;\n",
      "***************File Name : downloadfilesweb.apk***************\n",
      "CWE-22 is detected in method, Landroid/support/v4/content/ContextCompat; getObbDirs (Landroid/content/Context;)[Ljava/io/File;\n",
      "CWE-22 is detected in method, Landroid/support/v4/content/ContextCompat; getExternalFilesDirs (Landroid/content/Context; Ljava/lang/String;)[Ljava/io/File;\n",
      "CWE-22 is detected in method, Landroid/support/v4/content/FileProvider; parsePathStrategy (Landroid/content/Context; Ljava/lang/String;)Landroid/support/v4/content/FileProvider$PathStrategy;\n",
      "CWE-22 is detected in method, Landroid/support/v4/content/ContextCompat; getExternalCacheDirs (Landroid/content/Context;)[Ljava/io/File;\n",
      "***************File Name : download-navi.apk***************\n"
     ]
    },
    {
     "name": "stderr",
     "output_type": "stream",
     "text": [
      "Requested API level 31 is larger than maximum we have, returning API level 28 instead.\n"
     ]
    },
    {
     "name": "stdout",
     "output_type": "stream",
     "text": [
      "CWE-22 is detected in method, Lorg/acra/file/Directory$EXTERNAL_STORAGE; getFile (Landroid/content/Context; Ljava/lang/String;)Ljava/io/File;\n",
      "CWE-502 is detected in method, Landroidx/work/Data; fromByteArray ([B)Landroidx/work/Data;\n",
      "CWE-502 is detected in method, Lorg/acra/util/IOUtils; deserialize (Ljava/lang/Class; Ljava/lang/String;)Ljava/io/Serializable;\n",
      "***************File Name : dpi-tunnel.apk***************\n"
     ]
    },
    {
     "name": "stderr",
     "output_type": "stream",
     "text": [
      "Requested API level 30 is larger than maximum we have, returning API level 28 instead.\n"
     ]
    },
    {
     "name": "stdout",
     "output_type": "stream",
     "text": [
      "CWE-502 is detected in method, Landroidx/versionedparcelable/VersionedParcel; readSerializable ()Ljava/io/Serializable;\n",
      "***************File Name : dpi-tunnel-v2.apk***************\n"
     ]
    },
    {
     "name": "stderr",
     "output_type": "stream",
     "text": [
      "Requested API level 32 is larger than maximum we have, returning API level 28 instead.\n"
     ]
    },
    {
     "name": "stdout",
     "output_type": "stream",
     "text": [
      "CWE-502 is detected in method, Landroidx/versionedparcelable/VersionedParcel; readSerializable ()Ljava/io/Serializable;\n",
      "***************File Name : droidbeard.apk***************\n",
      "CWE-22 is detected in method, Landroid/support/v4/content/ContextCompat; getObbDirs (Landroid/content/Context;)[Ljava/io/File;\n",
      "CWE-22 is detected in method, Landroid/support/v4/content/ContextCompat; getExternalFilesDirs (Landroid/content/Context; Ljava/lang/String;)[Ljava/io/File;\n",
      "CWE-22 is detected in method, Landroid/support/v4/content/FileProvider; parsePathStrategy (Landroid/content/Context; Ljava/lang/String;)Landroid/support/v4/content/FileProvider$PathStrategy;\n",
      "CWE-22 is detected in method, Landroid/support/v4/content/ContextCompat; getExternalCacheDirs (Landroid/content/Context;)[Ljava/io/File;\n",
      "***************File Name : droidentify.apk***************\n",
      "CWE-22 is detected in method, Landroid/support/v4/content/ContextCompat; getObbDirs (Landroid/content/Context;)[Ljava/io/File;\n",
      "CWE-22 is detected in method, Landroid/support/v4/content/FileProvider; parsePathStrategy (Landroid/content/Context; Ljava/lang/String;)Landroid/support/v4/content/FileProvider$PathStrategy;\n",
      "CWE-22 is detected in method, Landroid/support/v4/content/ContextCompat; getExternalCacheDirs (Landroid/content/Context;)[Ljava/io/File;\n",
      "CWE-22 is detected in method, Landroid/support/v4/content/ContextCompat; getExternalFilesDirs (Landroid/content/Context; Ljava/lang/String;)[Ljava/io/File;\n",
      "***************File Name : droid-examiner.apk***************\n",
      "CWE-22 is detected in method, Landroid/support/v4/content/FileProvider; parsePathStrategy (Landroid/content/Context; Ljava/lang/String;)Landroid/support/v4/content/FileProvider$PathStrategy;\n",
      "***************File Name : droidify.apk***************\n"
     ]
    },
    {
     "name": "stderr",
     "output_type": "stream",
     "text": [
      "Requested API level 34 is larger than maximum we have, returning API level 28 instead.\n"
     ]
    },
    {
     "name": "stdout",
     "output_type": "stream",
     "text": [
      "CWE-502 is detected in method, Landroidx/work/Data; fromByteArray ([B)Landroidx/work/Data;\n",
      "***************File Name : droidshows.apk***************\n",
      "***************File Name : droidtr-keyboard.apk***************\n"
     ]
    },
    {
     "name": "stderr",
     "output_type": "stream",
     "text": [
      "Requested API level 1024 is larger than maximum we have, returning API level 28 instead.\n"
     ]
    },
    {
     "name": "stdout",
     "output_type": "stream",
     "text": [
      "***************File Name : droidwall.apk***************\n",
      "***************File Name : drowser.apk***************\n"
     ]
    },
    {
     "name": "stderr",
     "output_type": "stream",
     "text": [
      "Requested API level 34 is larger than maximum we have, returning API level 28 instead.\n"
     ]
    },
    {
     "name": "stdout",
     "output_type": "stream",
     "text": [
      "CWE-502 is detected in method, Landroidx/versionedparcelable/VersionedParcel; readSerializable ()Ljava/io/Serializable;\n",
      "***************File Name : dsbdirect.apk***************\n"
     ]
    },
    {
     "name": "stderr",
     "output_type": "stream",
     "text": [
      "Requested API level 34 is larger than maximum we have, returning API level 28 instead.\n"
     ]
    },
    {
     "name": "stdout",
     "output_type": "stream",
     "text": [
      "CWE-502 is detected in method, Landroidx/versionedparcelable/VersionedParcel; readSerializable ()Ljava/io/Serializable;\n",
      "***************File Name : dsu-sideloader.apk***************\n"
     ]
    },
    {
     "name": "stderr",
     "output_type": "stream",
     "text": [
      "Requested API level 33 is larger than maximum we have, returning API level 28 instead.\n"
     ]
    },
    {
     "name": "stdout",
     "output_type": "stream",
     "text": [
      "***************File Name : duckduckgo.apk***************\n"
     ]
    },
    {
     "name": "stderr",
     "output_type": "stream",
     "text": [
      "Requested API level 34 is larger than maximum we have, returning API level 28 instead.\n"
     ]
    },
    {
     "name": "stdout",
     "output_type": "stream",
     "text": [
      "CWE-502 is detected in method, Landroidx/work/Data; fromByteArray ([B)Landroidx/work/Data;\n",
      "CWE-502 is detected in method, Lorg/junit/experimental/max/MaxHistory; readHistory (Ljava/io/File;)Lorg/junit/experimental/max/MaxHistory;\n",
      "CWE-601 is detected in Lcom/duckduckgo/app/SelectedTextSearchActivity; onCreate (Landroid/os/Bundle;)V\n",
      "CWE-601 is detected in Lcom/duckduckgo/windows/impl/ui/WindowsActivity; launchSharePageChooser ()V\n",
      "CWE-601 is detected in Lcom/duckduckgo/app/browser/BrowserTabFragment; launchSharePromoRMFPageChooser (Ljava/lang/String; Ljava/lang/String;)V\n",
      "CWE-601 is detected in Lcom/duckduckgo/macos/impl/MacOsActivity; launchSharePageChooser ()V\n",
      "CWE-749 is detected in method, Lcom/duckduckgo/autofill/impl/email/incontext/EmailProtectionInContextSignupActivity; configureWebView ()V\n",
      "***************File Name : duorem.apk***************\n",
      "***************File Name : dvd.apk***************\n"
     ]
    },
    {
     "name": "stderr",
     "output_type": "stream",
     "text": [
      "Requested API level 29 is larger than maximum we have, returning API level 28 instead.\n"
     ]
    },
    {
     "name": "stdout",
     "output_type": "stream",
     "text": [
      "CWE-502 is detected in method, Landroidx/work/Data; fromByteArray ([B)Landroidx/work/Data;\n",
      "***************File Name : easer.apk***************\n",
      "CWE-22 is detected in method, Lryey/easer/EaserApplication; <clinit> ()V\n",
      "CWE-22 is detected in method, Lryey/easer/core/ui/setting/SettingsActivity$a; d (Landroid/content/Context;)V\n",
      "CWE-22 is detected in method, Lorg/acra/file/Directory$7; getFile (Landroid/content/Context; Ljava/lang/String;)Ljava/io/File;\n",
      "CWE-502 is detected in method, Lorg/acra/util/g; b (Ljava/lang/Class; Ljava/lang/String;)Ljava/io/Serializable;\n",
      "***************File Name : easer-beta.apk***************\n"
     ]
    },
    {
     "name": "stderr",
     "output_type": "stream",
     "text": [
      "Requested API level 30 is larger than maximum we have, returning API level 28 instead.\n"
     ]
    },
    {
     "name": "stdout",
     "output_type": "stream",
     "text": [
      "CWE-22 is detected in method, Lorg/acra/file/Directory$EXTERNAL_STORAGE; getFile (Landroid/content/Context; Ljava/lang/String;)Ljava/io/File;\n",
      "CWE-22 is detected in method, Lryey/easer/core/ui/setting/SettingsActivity$SettingsFragment; export_data (Landroid/content/Context;)V\n",
      "CWE-502 is detected in method, Lorg/acra/util/IOUtils; deserialize (Ljava/lang/Class; Ljava/lang/String;)Ljava/io/Serializable;\n",
      "***************File Name : easylight.apk***************\n",
      "CWE-22 is detected in method, Landroid/support/v4/content/ContextCompat; getObbDirs (Landroid/content/Context;)[Ljava/io/File;\n",
      "CWE-22 is detected in method, Landroid/support/v4/content/ContextCompat; getExternalFilesDirs (Landroid/content/Context; Ljava/lang/String;)[Ljava/io/File;\n",
      "CWE-22 is detected in method, Landroid/support/v4/content/FileProvider; parsePathStrategy (Landroid/content/Context; Ljava/lang/String;)Landroid/support/v4/content/FileProvider$PathStrategy;\n",
      "CWE-22 is detected in method, Landroid/support/v4/content/ContextCompat; getExternalCacheDirs (Landroid/content/Context;)[Ljava/io/File;\n",
      "***************File Name : easy-open-link.apk***************\n"
     ]
    },
    {
     "name": "stderr",
     "output_type": "stream",
     "text": [
      "Requested API level 34 is larger than maximum we have, returning API level 28 instead.\n"
     ]
    },
    {
     "name": "stdout",
     "output_type": "stream",
     "text": [
      "CWE-601 is detected in Lde/audioattack/openlink/ui/IncognitoActivity; onCreate (Landroid/os/Bundle;)V\n",
      "***************File Name : easyphone.apk***************\n"
     ]
    },
    {
     "name": "stderr",
     "output_type": "stream",
     "text": [
      "Requested API level 30 is larger than maximum we have, returning API level 28 instead.\n"
     ]
    },
    {
     "name": "stdout",
     "output_type": "stream",
     "text": [
      "CWE-502 is detected in method, Landroidx/versionedparcelable/VersionedParcel; readSerializable ()Ljava/io/Serializable;\n",
      "CWE-601 is detected in Landroidx/test/core/app/InstrumentationActivityInvoker; startActivity (Landroid/content/Intent; Landroid/os/Bundle;)V\n",
      "CWE-601 is detected in Landroidx/test/core/app/InstrumentationActivityInvoker; startFloatingEmptyActivitySync ()V\n",
      "CWE-601 is detected in Landroidx/test/core/app/InstrumentationActivityInvoker; startEmptyActivitySync ()V\n",
      "***************File Name : easyrss.apk***************\n"
     ]
    },
    {
     "name": "stderr",
     "output_type": "stream",
     "text": [
      "Requested API level 29 is larger than maximum we have, returning API level 28 instead.\n"
     ]
    },
    {
     "name": "stdout",
     "output_type": "stream",
     "text": [
      "***************File Name : easysshfs.apk***************\n"
     ]
    },
    {
     "name": "stderr",
     "output_type": "stream",
     "text": [
      "Requested API level 33 is larger than maximum we have, returning API level 28 instead.\n"
     ]
    },
    {
     "name": "stdout",
     "output_type": "stream",
     "text": [
      "***************File Name : easy-weather.apk***************\n",
      "CWE-22 is detected in method, Landroid/support/v4/content/ContextCompat; getObbDirs (Landroid/content/Context;)[Ljava/io/File;\n",
      "CWE-319 detected!\n",
      "Here are the found URLs with cleartext protocol:\n",
      "http://api.openweathermap.org/data/2.5/\n",
      "***************File Name : ebooks.apk***************\n"
     ]
    },
    {
     "name": "stderr",
     "output_type": "stream",
     "text": [
      "Requested API level 29 is larger than maximum we have, returning API level 28 instead.\n"
     ]
    },
    {
     "name": "stdout",
     "output_type": "stream",
     "text": [
      "CWE-502 is detected in method, Lcom/esotericsoftware/kryo/serializers/JavaSerializer; read (Lcom/esotericsoftware/kryo/Kryo; Lcom/esotericsoftware/kryo/io/Input; Ljava/lang/Class;)Ljava/lang/Object;\n",
      "***************File Name : editor.apk***************\n",
      "CWE-22 is detected in method, Lorg/billthefarmer/editor/Editor; lambda$saveAs$11$org-billthefarmer-editor-Editor (Landroid/content/DialogInterface; I)V\n",
      "CWE-22 is detected in method, Lorg/billthefarmer/editor/OpenFile; onCreate (Landroid/os/Bundle;)V\n",
      "CWE-22 is detected in method, Lorg/billthefarmer/editor/OpenFile; onRequestPermissionsResult (I [Ljava/lang/String; [I)V\n",
      "CWE-22 is detected in method, Lorg/billthefarmer/editor/Editor; openRecent (Landroid/view/MenuItem;)V\n",
      "CWE-22 is detected in method, Lorg/billthefarmer/editor/OpenFile; lambda$onCreate$1$org-billthefarmer-editor-OpenFile (Z Ljava/lang/String; Landroid/view/View;)V\n",
      "CWE-22 is detected in method, Lorg/billthefarmer/editor/Editor; getDefaultFile ()Ljava/io/File;\n",
      "CWE-22 is detected in method, Lorg/billthefarmer/editor/Editor; getNewFile ()Ljava/io/File;\n",
      "CWE-22 is detected in method, Lorg/billthefarmer/editor/OpenFile; lambda$onCreate$2$org-billthefarmer-editor-OpenFile (Landroid/view/View;)V\n",
      "***************File Name : eduroamcat.apk***************\n",
      "CWE-22 is detected in method, Luk/ac/swansea/eduroamcat/DownloadEAPConfig; doInBackground ([Ljava/lang/String;)Ljava/lang/Integer;\n",
      "CWE-601 is detected in Luk/ac/swansea/eduroamcat/eduroamCAT; onOptionsItemSelected (Landroid/view/MenuItem;)Z\n",
      "***************File Name : eduvpn.apk***************\n"
     ]
    },
    {
     "name": "stderr",
     "output_type": "stream",
     "text": [
      "Requested API level 34 is larger than maximum we have, returning API level 28 instead.\n"
     ]
    },
    {
     "name": "stdout",
     "output_type": "stream",
     "text": [
      "CWE-22 is detected in method, Lde/blinkt/openvpn/activities/ConfigConverter; Z0 (Ljava/lang/String;)Ljava/io/File;\n",
      "CWE-79 is detected in method, Lde/blinkt/openvpn/activities/InternalWebView; onCreate (Landroid/os/Bundle;)V\n",
      "CWE-502 is detected in method, Lde/blinkt/openvpn/core/t; n (Landroid/content/Context; Ljava/lang/String;)V\n",
      "***************File Name : einkbro.apk***************\n"
     ]
    },
    {
     "name": "stderr",
     "output_type": "stream",
     "text": [
      "Requested API level 34 is larger than maximum we have, returning API level 28 instead.\n"
     ]
    },
    {
     "name": "stdout",
     "output_type": "stream",
     "text": [
      "CWE-601 is detected in Linfo/plateaukao/einkbro/activity/DictActivity; onNewIntent (Landroid/content/Intent;)V\n",
      "***************File Name : element-riotim.apk***************\n"
     ]
    },
    {
     "name": "stderr",
     "output_type": "stream",
     "text": [
      "Requested API level 33 is larger than maximum we have, returning API level 28 instead.\n"
     ]
    },
    {
     "name": "stdout",
     "output_type": "stream",
     "text": [
      "CWE-22 is detected in method, Lcom/facebook/stetho/dumpapp/plugins/FilesDumperPlugin; resolvePossibleSdcardPath (Ljava/lang/String;)Ljava/io/File;\n",
      "CWE-502 is detected in method, Lorg/matrix/android/sdk/api/securestorage/SecretStoringUtils; loadSecureObjectM (Ljava/lang/String; Ljava/io/InputStream;)Ljava/lang/Object;\n",
      "CWE-502 is detected in method, Lorg/checkerframework/org/apache/commons/lang3/SerializationUtils; deserialize (Ljava/io/InputStream;)Ljava/lang/Object;\n",
      "CWE-502 is detected in method, Landroidx/work/Data; fromByteArray ([B)Landroidx/work/Data;\n",
      "CWE-502 is detected in method, Lorg/matrix/android/sdk/api/securestorage/SecretStoringUtils; loadSecureObject (Ljava/lang/String; Ljava/io/InputStream;)Ljava/lang/Object;\n",
      "CWE-502 is detected in method, Lorg/checkerframework/org/plumelib/util/FilesPlume; readObject (Ljava/io/File;)Ljava/lang/Object;\n",
      "CWE-601 is detected in Lim/vector/app/features/spaces/share/ShareSpaceBottomSheet$onViewCreated$3; invoke (Lim/vector/app/features/spaces/share/ShareSpaceViewEvents;)V\n",
      "CWE-601 is detected in Lim/vector/app/features/navigation/DefaultNavigator; openCreatePoll (Landroid/content/Context; Ljava/lang/String; Ljava/lang/String; Lim/vector/app/features/poll/PollMode;)V\n",
      "CWE-601 is detected in Lim/vector/app/features/link/LinkHandlerActivity; handleSupportedHostUrl ()V\n",
      "CWE-601 is detected in Lim/vector/app/features/navigation/DefaultNavigator; openSettings (Landroid/content/Context; Lim/vector/app/features/navigation/SettingsActivityPayload;)V\n",
      "CWE-601 is detected in Lim/vector/app/features/navigation/DefaultNavigator; openLocationSharing (Landroid/content/Context; Ljava/lang/String; Lim/vector/app/features/location/LocationSharingMode; Lim/vector/app/features/location/LocationData; Ljava/lang/String;)V\n",
      "CWE-601 is detected in Lim/vector/app/features/navigation/DefaultNavigator; openLoginWithQrCode (Landroid/content/Context; Lim/vector/app/features/login/qr/QrCodeLoginArgs;)V\n",
      "CWE-601 is detected in Lim/vector/app/features/navigation/DefaultNavigator; openSettings (Landroid/content/Context; I)V\n",
      "CWE-601 is detected in Lim/vector/app/features/consent/ConsentNotGivenHelper; openWebViewActivity (Ljava/lang/String;)V\n",
      "CWE-601 is detected in Lim/vector/app/core/extensions/ActivityKt; restart (Landroid/app/Activity;)V\n",
      "***************File Name : elfeed-mobile.apk***************\n"
     ]
    },
    {
     "name": "stderr",
     "output_type": "stream",
     "text": [
      "Requested API level 33 is larger than maximum we have, returning API level 28 instead.\n"
     ]
    },
    {
     "name": "stdout",
     "output_type": "stream",
     "text": [
      "CWE-502 is detected in method, Landroidx/versionedparcelable/VersionedParcel; readSerializable ()Ljava/io/Serializable;\n",
      "***************File Name : elloshare.apk***************\n",
      "CWE-22 is detected in method, Landroid/support/v4/content/ContextCompat; getObbDirs (Landroid/content/Context;)[Ljava/io/File;\n",
      "CWE-22 is detected in method, Landroid/support/v4/content/FileProvider; parsePathStrategy (Landroid/content/Context; Ljava/lang/String;)Landroid/support/v4/content/FileProvider$PathStrategy;\n",
      "CWE-22 is detected in method, Landroid/support/v4/content/ContextCompat; getExternalCacheDirs (Landroid/content/Context;)[Ljava/io/File;\n",
      "CWE-22 is detected in method, Landroid/support/v4/content/ContextCompat; getExternalFilesDirs (Landroid/content/Context; Ljava/lang/String;)[Ljava/io/File;\n",
      "CWE-502 is detected in method, Lch/boye/httpclientandroidlib/impl/client/cache/DefaultHttpCacheEntrySerializer; readFrom (Ljava/io/InputStream;)Lch/boye/httpclientandroidlib/client/cache/HttpCacheEntry;\n",
      "***************File Name : email.apk***************\n"
     ]
    },
    {
     "name": "stderr",
     "output_type": "stream",
     "text": [
      "Requested API level 33 is larger than maximum we have, returning API level 28 instead.\n"
     ]
    },
    {
     "name": "stdout",
     "output_type": "stream",
     "text": [
      "CWE-601 is detected in Lorg/dystopia/email/FragmentCompose$10; onClick (Landroid/view/View;)V\n",
      "CWE-601 is detected in Lorg/dystopia/email/ActivityView$9; onClick (Landroid/view/View;)V\n",
      "CWE-601 is detected in Lorg/dystopia/email/ActivityView; onMenuInvite ()V\n",
      "CWE-601 is detected in Lorg/dystopia/email/ActivityBase; onSharedPreferenceChanged (Landroid/content/SharedPreferences; Ljava/lang/String;)V\n",
      "***************File Name : emerald-launcher.apk***************\n",
      "CWE-601 is detected in Lru/henridellal/emerald/Options; restorePrefs (Ljava/lang/Object; Ljava/lang/String;)V\n",
      "***************File Name : energize.apk***************\n"
     ]
    },
    {
     "name": "stderr",
     "output_type": "stream",
     "text": [
      "Requested API level 33 is larger than maximum we have, returning API level 28 instead.\n"
     ]
    },
    {
     "name": "stdout",
     "output_type": "stream",
     "text": [
      "CWE-502 is detected in method, Ld2/l$a; b (Ljava/lang/String;)Ljava/util/List;\n",
      "***************File Name : entrust-identityguard-unblocker.apk***************\n",
      "***************File Name : equran.apk***************\n"
     ]
    },
    {
     "name": "stderr",
     "output_type": "stream",
     "text": [
      "Requested API level 33 is larger than maximum we have, returning API level 28 instead.\n"
     ]
    },
    {
     "name": "stdout",
     "output_type": "stream",
     "text": [
      "CWE-502 is detected in method, Lb0/l$a; b (Ljava/lang/String;)Ljava/util/List;\n",
      "***************File Name : er-riki%C3%B0-opi%C3%B0.apk***************\n",
      "CWE-502 is detected in method, Lio/flutter/plugins/b/a; a (Ljava/lang/String;)Ljava/util/List;\n",
      "***************File Name : etchdroid.apk***************\n"
     ]
    },
    {
     "name": "stderr",
     "output_type": "stream",
     "text": [
      "Requested API level 34 is larger than maximum we have, returning API level 28 instead.\n"
     ]
    },
    {
     "name": "stdout",
     "output_type": "stream",
     "text": [
      "***************File Name : eternity.apk***************\n"
     ]
    },
    {
     "name": "stderr",
     "output_type": "stream",
     "text": [
      "Requested API level 33 is larger than maximum we have, returning API level 28 instead.\n"
     ]
    },
    {
     "name": "stdout",
     "output_type": "stream",
     "text": [
      "CWE-502 is detected in method, Leu/toldi/infinityforlemmy/asynctasks/RestoreSettings; importSharedPreferencsFromFile (Landroid/content/SharedPreferences; Ljava/lang/String;)Z\n",
      "CWE-502 is detected in method, Landroidx/work/Data; fromByteArray ([B)Landroidx/work/Data;\n",
      "***************File Name : etesync.apk***************\n"
     ]
    },
    {
     "name": "stderr",
     "output_type": "stream",
     "text": [
      "Requested API level 33 is larger than maximum we have, returning API level 28 instead.\n"
     ]
    },
    {
     "name": "stdout",
     "output_type": "stream",
     "text": [
      "CWE-22 is detected in method, Lorg/acra/file/Directory$7; getFile (Landroid/content/Context; Ljava/lang/String;)Ljava/io/File;\n",
      "CWE-502 is detected in method, Lat/bitfire/ical4android/AndroidEvent; populateExtended (Landroid/content/ContentValues;)V\n",
      "CWE-502 is detected in method, Lorg/acra/util/IOUtils; deserialize (Ljava/lang/Class; Ljava/lang/String;)Ljava/io/Serializable;\n",
      "CWE-601 is detected in Lcom/etesync/syncadapter/syncadapter/SyncNotification$NotificationHandlerActivity; onCreate (Landroid/os/Bundle;)V\n",
      "***************File Name : etesync-notes.apk***************\n"
     ]
    },
    {
     "name": "stderr",
     "output_type": "stream",
     "text": [
      "Requested API level 29 is larger than maximum we have, returning API level 28 instead.\n"
     ]
    },
    {
     "name": "stdout",
     "output_type": "stream",
     "text": [
      "CWE-502 is detected in method, Lorg/apache/commons/lang3/SerializationUtils; deserialize (Ljava/io/InputStream;)Ljava/lang/Object;\n",
      "***************File Name : etherwake.apk***************\n",
      "CWE-22 is detected in method, Landroid/support/v4/content/ContextCompat; getObbDirs (Landroid/content/Context;)[Ljava/io/File;\n",
      "CWE-22 is detected in method, Landroid/support/v4/content/FileProvider; parsePathStrategy (Landroid/content/Context; Ljava/lang/String;)Landroid/support/v4/content/FileProvider$PathStrategy;\n",
      "CWE-22 is detected in method, Landroid/support/v4/content/ContextCompat; getExternalCacheDirs (Landroid/content/Context;)[Ljava/io/File;\n",
      "CWE-22 is detected in method, Landroid/support/v4/content/ContextCompat; getExternalFilesDirs (Landroid/content/Context; Ljava/lang/String;)[Ljava/io/File;\n",
      "***************File Name : evergreen-wishlist.apk***************\n",
      "***************File Name : export-contacts.apk***************\n",
      "***************File Name : extirpater.apk***************\n"
     ]
    },
    {
     "name": "stderr",
     "output_type": "stream",
     "text": [
      "Requested API level 32 is larger than maximum we have, returning API level 28 instead.\n"
     ]
    },
    {
     "name": "stdout",
     "output_type": "stream",
     "text": [
      "***************File Name : eyesfree-shell.apk***************\n",
      "CWE-502 is detected in method, Lorg/htmlparser/parserapplications/filterbuilder/Filter; unpickle ([B)Ljava/lang/Object;\n",
      "***************File Name : facebook-lite.apk***************\n",
      "***************File Name : facebook-notifications.apk***************\n",
      "CWE-749 is detected in method, Lorg/surrel/facebooknotifications/MainActivity; onCreate (Landroid/os/Bundle;)V\n",
      "CWE-749 is detected in method, Lorg/surrel/facebooknotifications/UpdateService; onCreate ()V\n",
      "***************File Name : fairemail.apk***************\n"
     ]
    },
    {
     "name": "stderr",
     "output_type": "stream",
     "text": [
      "Requested API level 34 is larger than maximum we have, returning API level 28 instead.\n"
     ]
    },
    {
     "name": "stdout",
     "output_type": "stream",
     "text": [
      "CWE-502 is detected in method, Landroidx/work/Data; fromByteArray ([B)Landroidx/work/Data;\n",
      "CWE-601 is detected in Leu/faircode/email/FragmentMessages$79$1; onMenuItemClick (Landroid/view/MenuItem;)Z\n",
      "CWE-601 is detected in Leu/faircode/email/FragmentOptionsPrivacy$38; onClick (Landroid/view/View;)V\n",
      "CWE-601 is detected in Leu/faircode/email/FragmentDialogReview$4; onClick (Landroid/view/View;)V\n",
      "CWE-601 is detected in Leu/faircode/email/FragmentDialogReview$3; onClick (Landroid/content/DialogInterface; I)V\n",
      "CWE-601 is detected in Leu/faircode/email/ActivityBase; onResume ()V\n",
      "CWE-601 is detected in Leu/faircode/email/ActivityBase; onSharedPreferenceChanged (Landroid/content/SharedPreferences; Ljava/lang/String;)V\n",
      "CWE-601 is detected in Leu/faircode/email/ActivityBase; checkAuthentication (Z)V\n",
      "CWE-601 is detected in Leu/faircode/email/ActivityView; onMenuIssue ()V\n",
      "CWE-601 is detected in Leu/faircode/email/ActivityMain; onCreate (Landroid/os/Bundle;)V\n",
      "CWE-601 is detected in Leu/faircode/email/ActivitySearch; onCreate (Landroid/os/Bundle;)V\n",
      "CWE-601 is detected in Leu/faircode/email/ActivitySetup; onMenuIssue ()V\n",
      "CWE-601 is detected in Lnet/openid/appauth/RedirectUriReceiverActivity; onCreate (Landroid/os/Bundle;)V\n",
      "CWE-601 is detected in Leu/faircode/email/FragmentDialogDebug$1; onClick (Landroid/view/View;)V\n",
      "***************File Name : fakestandby.apk***************\n"
     ]
    },
    {
     "name": "stderr",
     "output_type": "stream",
     "text": [
      "Requested API level 31 is larger than maximum we have, returning API level 28 instead.\n"
     ]
    },
    {
     "name": "stdout",
     "output_type": "stream",
     "text": [
      "CWE-502 is detected in method, Landroidx/work/b; a ([B)Landroidx/work/b;\n",
      "***************File Name : fast-brightness-control-widget.apk***************\n",
      "***************File Name : fast-draw.apk***************\n"
     ]
    },
    {
     "name": "stderr",
     "output_type": "stream",
     "text": [
      "Requested API level 34 is larger than maximum we have, returning API level 28 instead.\n"
     ]
    },
    {
     "name": "stdout",
     "output_type": "stream",
     "text": [
      "CWE-502 is detected in method, Landroidx/versionedparcelable/VersionedParcel; readSerializable ()Ljava/io/Serializable;\n",
      "***************File Name : faster-app-search-tool.apk***************\n",
      "CWE-601 is detected in Lorg/ligi/fast/ui/v; onPreferenceChange (Landroid/preference/Preference; Ljava/lang/Object;)Z\n",
      "***************File Name : fbclient.apk***************\n",
      "CWE-22 is detected in method, Leu/devunit/fb_client/filebin/FilebinClient; getFileFromText (Ljava/lang/String;)Ljava/lang/String;\n",
      "***************File Name : fcitx5-for-android.apk***************\n"
     ]
    },
    {
     "name": "stderr",
     "output_type": "stream",
     "text": [
      "Requested API level 33 is larger than maximum we have, returning API level 28 instead.\n"
     ]
    },
    {
     "name": "stdout",
     "output_type": "stream",
     "text": [
      "***************File Name : fcitx5-for-android-anthy-plugin.apk***************\n"
     ]
    },
    {
     "name": "stderr",
     "output_type": "stream",
     "text": [
      "Requested API level 33 is larger than maximum we have, returning API level 28 instead.\n"
     ]
    },
    {
     "name": "stdout",
     "output_type": "stream",
     "text": [
      "***************File Name : fcitx5-for-android-chewing-plugin.apk***************\n"
     ]
    },
    {
     "name": "stderr",
     "output_type": "stream",
     "text": [
      "Requested API level 33 is larger than maximum we have, returning API level 28 instead.\n"
     ]
    },
    {
     "name": "stdout",
     "output_type": "stream",
     "text": [
      "***************File Name : fcitx5-for-android-clipboard-filter-plugin.apk***************\n"
     ]
    },
    {
     "name": "stderr",
     "output_type": "stream",
     "text": [
      "Requested API level 33 is larger than maximum we have, returning API level 28 instead.\n"
     ]
    },
    {
     "name": "stdout",
     "output_type": "stream",
     "text": [
      "***************File Name : fcitx5-for-android-hangul-plugin.apk***************\n"
     ]
    },
    {
     "name": "stderr",
     "output_type": "stream",
     "text": [
      "Requested API level 33 is larger than maximum we have, returning API level 28 instead.\n"
     ]
    },
    {
     "name": "stdout",
     "output_type": "stream",
     "text": [
      "***************File Name : fcitx5-for-android-jyutping-plugin.apk***************\n"
     ]
    },
    {
     "name": "stderr",
     "output_type": "stream",
     "text": [
      "Requested API level 33 is larger than maximum we have, returning API level 28 instead.\n"
     ]
    },
    {
     "name": "stdout",
     "output_type": "stream",
     "text": [
      "***************File Name : fcitx5-for-android-rime-plugin.apk***************\n"
     ]
    },
    {
     "name": "stderr",
     "output_type": "stream",
     "text": [
      "Requested API level 33 is larger than maximum we have, returning API level 28 instead.\n"
     ]
    },
    {
     "name": "stdout",
     "output_type": "stream",
     "text": [
      "***************File Name : fcitx5-for-android-sayura-plugin.apk***************\n"
     ]
    },
    {
     "name": "stderr",
     "output_type": "stream",
     "text": [
      "Requested API level 33 is larger than maximum we have, returning API level 28 instead.\n"
     ]
    },
    {
     "name": "stdout",
     "output_type": "stream",
     "text": [
      "***************File Name : fcitx5-for-android-unikey-plugin.apk***************\n"
     ]
    },
    {
     "name": "stderr",
     "output_type": "stream",
     "text": [
      "Requested API level 33 is larger than maximum we have, returning API level 28 instead.\n"
     ]
    },
    {
     "name": "stdout",
     "output_type": "stream",
     "text": [
      "***************File Name : fdroid-basic-alpha.apk***************\n"
     ]
    },
    {
     "name": "stderr",
     "output_type": "stream",
     "text": [
      "Requested API level 34 is larger than maximum we have, returning API level 28 instead.\n"
     ]
    },
    {
     "name": "stdout",
     "output_type": "stream",
     "text": [
      "CWE-22 is detected in method, Lorg/acra/file/Directory$EXTERNAL_STORAGE; getFile (Landroid/content/Context; Ljava/lang/String;)Ljava/io/File;\n",
      "CWE-502 is detected in method, Lorg/acra/util/IOUtils; deserialize (Ljava/lang/Class; Ljava/lang/String;)Ljava/io/Serializable;\n",
      "CWE-502 is detected in method, Landroidx/work/Data; fromByteArray ([B)Landroidx/work/Data;\n",
      "CWE-601 is detected in Lorg/fdroid/fdroid/Languages; forceChangeLanguage (Landroidx/appcompat/app/AppCompatActivity;)V\n",
      "CWE-601 is detected in Lorg/fdroid/fdroid/views/installed/InstalledAppsActivity; onOptionsItemSelected (Landroid/view/MenuItem;)Z\n",
      "CWE-601 is detected in Lorg/fdroid/fdroid/views/InstallHistoryActivity; onOptionsItemSelected (Landroid/view/MenuItem;)Z\n",
      "CWE-601 is detected in Lorg/fdroid/fdroid/views/main/MainActivity; handleSearchOrAppViewIntent (Landroid/content/Intent;)V\n",
      "***************File Name : fdroid-classic.apk***************\n",
      "CWE-22 is detected in method, Lcom/nostra13/universalimageloader/utils/StorageUtils; getExternalCacheDir (Landroid/content/Context;)Ljava/io/File;\n",
      "CWE-601 is detected in Lorg/fdroid/fdroid/FDroid; handleSearchOrAppViewIntent (Landroid/content/Intent;)V\n",
      "CWE-601 is detected in Lorg/fdroid/fdroid/FDroid; onActivityResult (I I Landroid/content/Intent;)V\n",
      "CWE-601 is detected in Lorg/fdroid/fdroid/FDroidApp; forceChangeTheme (Landroid/app/Activity;)V\n",
      "***************File Name : fdroid-kaltura-device-info.apk***************\n"
     ]
    },
    {
     "name": "stderr",
     "output_type": "stream",
     "text": [
      "Requested API level 32 is larger than maximum we have, returning API level 28 instead.\n"
     ]
    },
    {
     "name": "stdout",
     "output_type": "stream",
     "text": [
      "***************File Name : fdroid-nearby.apk***************\n"
     ]
    },
    {
     "name": "stderr",
     "output_type": "stream",
     "text": [
      "Requested API level 29 is larger than maximum we have, returning API level 28 instead.\n"
     ]
    },
    {
     "name": "stdout",
     "output_type": "stream",
     "text": [
      "CWE-22 is detected in method, Lorg/fdroid/fdroid/data/Apk; getPatchObbFile ()Ljava/io/File;\n",
      "CWE-22 is detected in method, Lorg/fdroid/fdroid/data/Apk; getMainObbFile ()Ljava/io/File;\n",
      "CWE-502 is detected in method, Landroidx/work/Data; fromByteArray ([B)Landroidx/work/Data;\n",
      "***************File Name : fdroid-privileged-extension.apk***************\n",
      "***************File Name : fedi-photo.apk***************\n"
     ]
    },
    {
     "name": "stderr",
     "output_type": "stream",
     "text": [
      "Requested API level 29 is larger than maximum we have, returning API level 28 instead.\n"
     ]
    },
    {
     "name": "stdout",
     "output_type": "stream",
     "text": [
      "CWE-502 is detected in method, Landroidx/work/Data; fromByteArray ([B)Landroidx/work/Data;\n",
      "***************File Name : fediphotolineage.apk***************\n"
     ]
    },
    {
     "name": "stderr",
     "output_type": "stream",
     "text": [
      "Requested API level 34 is larger than maximum we have, returning API level 28 instead.\n"
     ]
    },
    {
     "name": "stdout",
     "output_type": "stream",
     "text": [
      "CWE-502 is detected in method, Le2/g; a ([B)Le2/g;\n",
      "***************File Name : feeder.apk***************\n"
     ]
    },
    {
     "name": "stderr",
     "output_type": "stream",
     "text": [
      "Requested API level 34 is larger than maximum we have, returning API level 28 instead.\n"
     ]
    }
   ],
   "source": [
    "files = os.listdir(APK_PATH)\n",
    "for file in files:\n",
    "    try:\n",
    "        current_path = APK_PATH + \"/\" + file\n",
    "        app = json.dumps({\"cwe\":[]})\n",
    "        app_json = json.loads(app)\n",
    "\n",
    "        print(\"***************File Name : \"+file+\"***************\")\n",
    "\n",
    "        CWE_22(current_path, app_json)\n",
    "        CWE_79(current_path, app_json)\n",
    "        CWE_88(current_path, app_json)\n",
    "        CWE_89(current_path, app_json)\n",
    "        CWE_117(current_path, app_json)\n",
    "        CWE_319(current_path, app_json)\n",
    "        CWE_502(current_path, app_json)\n",
    "        CWE_532(current_path, app_json)\n",
    "        CWE_601(current_path, app_json)\n",
    "        CWE_749(current_path, app_json)\n",
    "        CWE_921(current_path, app_json)\n",
    "    except Exception as e:\n",
    "        print(\"!!!!!!!!!!!!!!!!!!!!!!!!!!!!!!!!!!!\")\n",
    "        print(e)\n",
    "        continue\n",
    "    with open(JSON_PATH + file + '.json', 'w') as outfile:\n",
    "        json.dump(app_json, outfile)"
   ]
  }
 ],
 "metadata": {
  "kernelspec": {
   "display_name": "Python 3 (ipykernel)",
   "language": "python",
   "name": "python3"
  },
  "language_info": {
   "codemirror_mode": {
    "name": "ipython",
    "version": 3
   },
   "file_extension": ".py",
   "mimetype": "text/x-python",
   "name": "python",
   "nbconvert_exporter": "python",
   "pygments_lexer": "ipython3",
   "version": "3.11.3"
  }
 },
 "nbformat": 4,
 "nbformat_minor": 5
}
